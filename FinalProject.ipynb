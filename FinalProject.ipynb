{
  "cells": [
    {
      "cell_type": "markdown",
      "metadata": {
        "colab_type": "text",
        "id": "view-in-github"
      },
      "source": [
        "<a href=\"https://colab.research.google.com/github.com/r-ap/Final-Project-Training/blob/main/FinalProject.ipynb\" target=\"_parent\"><img src=\"https://colab.research.google.com/assets/colab-badge.svg\" alt=\"Open In Colab\"/></a>"
      ]
    },
    {
      "cell_type": "markdown",
      "metadata": {
        "id": "Eo5vxd01Chkd"
      },
      "source": [
        "# **Final Project**"
      ]
    },
    {
      "cell_type": "markdown",
      "metadata": {},
      "source": [
        "## Introduction"
      ]
    },
    {
      "cell_type": "markdown",
      "metadata": {},
      "source": [
        "Creator : Ryan Arief Putranto - 010497\n",
        "\n",
        "Project ini untuk membuat model Prediksi terkait Turn Over Karyawan berdasarkan beberapa parameter:\n",
        "- Sumber data : https://www.kaggle.com/datasets/tejashvi14/employee-future-prediction\n",
        "- Data dari 3 Kota di India (New Delhi, Pune, dan Bangalore)\n",
        "- Data hanya dari tahun 2012 - 2018"
      ]
    },
    {
      "cell_type": "code",
      "execution_count": 10,
      "metadata": {
        "id": "-Z7c3R1TEFrt"
      },
      "outputs": [],
      "source": [
        "import pandas as pd\n",
        "import matplotlib.pyplot as plt\n",
        "import seaborn as sns\n",
        "import numpy as np\n",
        "from sklearn.model_selection import train_test_split\n",
        "from sklearn.preprocessing import StandardScaler, MinMaxScaler"
      ]
    },
    {
      "cell_type": "markdown",
      "metadata": {
        "id": "9IahREGg0a_e"
      },
      "source": [
        "## Data Loading And Cleaning"
      ]
    },
    {
      "cell_type": "markdown",
      "metadata": {},
      "source": [
        "Berdasarkan data diatas parameter data yang ada sebagai berikut:\n",
        "\n",
        "- Education : The highest level of formal education obtianed by the employee\n",
        "- JoiningYear : Year of joining the company\n",
        "- City : Job Location\n",
        "- PaymentTier : [1:3] -> 1 means better payment\n",
        "- Age : Age of the employee\n",
        "- Gender : Gender of the employee\n",
        "- EverBenched : Ever kept out of project for more than one month\n",
        "- ExperienceInCurrentDomain : Experience in current field\n",
        "- LeaveOrNot : Whether the employee leaves the company in next 2 years"
      ]
    },
    {
      "cell_type": "code",
      "execution_count": 11,
      "metadata": {
        "colab": {
          "base_uri": "https://localhost:8080/",
          "height": 270
        },
        "id": "I7_twOOsopQe",
        "outputId": "c6be2ba4-7809-473b-cdb1-f5503e5505ad"
      },
      "outputs": [
        {
          "data": {
            "text/html": [
              "<div>\n",
              "<style scoped>\n",
              "    .dataframe tbody tr th:only-of-type {\n",
              "        vertical-align: middle;\n",
              "    }\n",
              "\n",
              "    .dataframe tbody tr th {\n",
              "        vertical-align: top;\n",
              "    }\n",
              "\n",
              "    .dataframe thead th {\n",
              "        text-align: right;\n",
              "    }\n",
              "</style>\n",
              "<table border=\"1\" class=\"dataframe\">\n",
              "  <thead>\n",
              "    <tr style=\"text-align: right;\">\n",
              "      <th></th>\n",
              "      <th>Education</th>\n",
              "      <th>JoiningYear</th>\n",
              "      <th>City</th>\n",
              "      <th>PaymentTier</th>\n",
              "      <th>Age</th>\n",
              "      <th>Gender</th>\n",
              "      <th>EverBenched</th>\n",
              "      <th>ExperienceInCurrentDomain</th>\n",
              "      <th>LeaveOrNot</th>\n",
              "    </tr>\n",
              "  </thead>\n",
              "  <tbody>\n",
              "    <tr>\n",
              "      <th>0</th>\n",
              "      <td>Bachelors</td>\n",
              "      <td>2017</td>\n",
              "      <td>Bangalore</td>\n",
              "      <td>3</td>\n",
              "      <td>34</td>\n",
              "      <td>Male</td>\n",
              "      <td>No</td>\n",
              "      <td>0</td>\n",
              "      <td>0</td>\n",
              "    </tr>\n",
              "    <tr>\n",
              "      <th>1</th>\n",
              "      <td>Bachelors</td>\n",
              "      <td>2013</td>\n",
              "      <td>Pune</td>\n",
              "      <td>1</td>\n",
              "      <td>28</td>\n",
              "      <td>Female</td>\n",
              "      <td>No</td>\n",
              "      <td>3</td>\n",
              "      <td>1</td>\n",
              "    </tr>\n",
              "    <tr>\n",
              "      <th>2</th>\n",
              "      <td>Bachelors</td>\n",
              "      <td>2014</td>\n",
              "      <td>New Delhi</td>\n",
              "      <td>3</td>\n",
              "      <td>38</td>\n",
              "      <td>Female</td>\n",
              "      <td>No</td>\n",
              "      <td>2</td>\n",
              "      <td>0</td>\n",
              "    </tr>\n",
              "    <tr>\n",
              "      <th>3</th>\n",
              "      <td>Masters</td>\n",
              "      <td>2016</td>\n",
              "      <td>Bangalore</td>\n",
              "      <td>3</td>\n",
              "      <td>27</td>\n",
              "      <td>Male</td>\n",
              "      <td>No</td>\n",
              "      <td>5</td>\n",
              "      <td>1</td>\n",
              "    </tr>\n",
              "    <tr>\n",
              "      <th>4</th>\n",
              "      <td>Masters</td>\n",
              "      <td>2017</td>\n",
              "      <td>Pune</td>\n",
              "      <td>3</td>\n",
              "      <td>24</td>\n",
              "      <td>Male</td>\n",
              "      <td>Yes</td>\n",
              "      <td>2</td>\n",
              "      <td>1</td>\n",
              "    </tr>\n",
              "  </tbody>\n",
              "</table>\n",
              "</div>"
            ],
            "text/plain": [
              "   Education  JoiningYear       City  PaymentTier  Age  Gender EverBenched  \\\n",
              "0  Bachelors         2017  Bangalore            3   34    Male          No   \n",
              "1  Bachelors         2013       Pune            1   28  Female          No   \n",
              "2  Bachelors         2014  New Delhi            3   38  Female          No   \n",
              "3    Masters         2016  Bangalore            3   27    Male          No   \n",
              "4    Masters         2017       Pune            3   24    Male         Yes   \n",
              "\n",
              "   ExperienceInCurrentDomain  LeaveOrNot  \n",
              "0                          0           0  \n",
              "1                          3           1  \n",
              "2                          2           0  \n",
              "3                          5           1  \n",
              "4                          2           1  "
            ]
          },
          "execution_count": 11,
          "metadata": {},
          "output_type": "execute_result"
        }
      ],
      "source": [
        "df_employee = pd.read_csv('content/Employee.csv')\n",
        "df_employee.head()"
      ]
    },
    {
      "cell_type": "code",
      "execution_count": 12,
      "metadata": {
        "id": "_qH2UEsn0a_g",
        "outputId": "e368859a-c046-4331-f5e6-fbe3b2d463e6"
      },
      "outputs": [
        {
          "data": {
            "text/html": [
              "<div>\n",
              "<style scoped>\n",
              "    .dataframe tbody tr th:only-of-type {\n",
              "        vertical-align: middle;\n",
              "    }\n",
              "\n",
              "    .dataframe tbody tr th {\n",
              "        vertical-align: top;\n",
              "    }\n",
              "\n",
              "    .dataframe thead th {\n",
              "        text-align: right;\n",
              "    }\n",
              "</style>\n",
              "<table border=\"1\" class=\"dataframe\">\n",
              "  <thead>\n",
              "    <tr style=\"text-align: right;\">\n",
              "      <th></th>\n",
              "      <th>JoiningYear</th>\n",
              "      <th>PaymentTier</th>\n",
              "      <th>Age</th>\n",
              "      <th>ExperienceInCurrentDomain</th>\n",
              "      <th>LeaveOrNot</th>\n",
              "    </tr>\n",
              "  </thead>\n",
              "  <tbody>\n",
              "    <tr>\n",
              "      <th>count</th>\n",
              "      <td>4653.000000</td>\n",
              "      <td>4653.000000</td>\n",
              "      <td>4653.000000</td>\n",
              "      <td>4653.000000</td>\n",
              "      <td>4653.000000</td>\n",
              "    </tr>\n",
              "    <tr>\n",
              "      <th>mean</th>\n",
              "      <td>2015.062970</td>\n",
              "      <td>2.698259</td>\n",
              "      <td>29.393295</td>\n",
              "      <td>2.905652</td>\n",
              "      <td>0.343864</td>\n",
              "    </tr>\n",
              "    <tr>\n",
              "      <th>std</th>\n",
              "      <td>1.863377</td>\n",
              "      <td>0.561435</td>\n",
              "      <td>4.826087</td>\n",
              "      <td>1.558240</td>\n",
              "      <td>0.475047</td>\n",
              "    </tr>\n",
              "    <tr>\n",
              "      <th>min</th>\n",
              "      <td>2012.000000</td>\n",
              "      <td>1.000000</td>\n",
              "      <td>22.000000</td>\n",
              "      <td>0.000000</td>\n",
              "      <td>0.000000</td>\n",
              "    </tr>\n",
              "    <tr>\n",
              "      <th>25%</th>\n",
              "      <td>2013.000000</td>\n",
              "      <td>3.000000</td>\n",
              "      <td>26.000000</td>\n",
              "      <td>2.000000</td>\n",
              "      <td>0.000000</td>\n",
              "    </tr>\n",
              "    <tr>\n",
              "      <th>50%</th>\n",
              "      <td>2015.000000</td>\n",
              "      <td>3.000000</td>\n",
              "      <td>28.000000</td>\n",
              "      <td>3.000000</td>\n",
              "      <td>0.000000</td>\n",
              "    </tr>\n",
              "    <tr>\n",
              "      <th>75%</th>\n",
              "      <td>2017.000000</td>\n",
              "      <td>3.000000</td>\n",
              "      <td>32.000000</td>\n",
              "      <td>4.000000</td>\n",
              "      <td>1.000000</td>\n",
              "    </tr>\n",
              "    <tr>\n",
              "      <th>max</th>\n",
              "      <td>2018.000000</td>\n",
              "      <td>3.000000</td>\n",
              "      <td>41.000000</td>\n",
              "      <td>7.000000</td>\n",
              "      <td>1.000000</td>\n",
              "    </tr>\n",
              "  </tbody>\n",
              "</table>\n",
              "</div>"
            ],
            "text/plain": [
              "       JoiningYear  PaymentTier          Age  ExperienceInCurrentDomain  \\\n",
              "count  4653.000000  4653.000000  4653.000000                4653.000000   \n",
              "mean   2015.062970     2.698259    29.393295                   2.905652   \n",
              "std       1.863377     0.561435     4.826087                   1.558240   \n",
              "min    2012.000000     1.000000    22.000000                   0.000000   \n",
              "25%    2013.000000     3.000000    26.000000                   2.000000   \n",
              "50%    2015.000000     3.000000    28.000000                   3.000000   \n",
              "75%    2017.000000     3.000000    32.000000                   4.000000   \n",
              "max    2018.000000     3.000000    41.000000                   7.000000   \n",
              "\n",
              "        LeaveOrNot  \n",
              "count  4653.000000  \n",
              "mean      0.343864  \n",
              "std       0.475047  \n",
              "min       0.000000  \n",
              "25%       0.000000  \n",
              "50%       0.000000  \n",
              "75%       1.000000  \n",
              "max       1.000000  "
            ]
          },
          "execution_count": 12,
          "metadata": {},
          "output_type": "execute_result"
        }
      ],
      "source": [
        "df_employee.describe()"
      ]
    },
    {
      "cell_type": "code",
      "execution_count": 13,
      "metadata": {},
      "outputs": [
        {
          "data": {
            "text/plain": [
              "array(['Bachelors', 'Masters', 'PHD'], dtype=object)"
            ]
          },
          "execution_count": 13,
          "metadata": {},
          "output_type": "execute_result"
        }
      ],
      "source": [
        "df_employee['Education'].unique()"
      ]
    },
    {
      "cell_type": "code",
      "execution_count": 14,
      "metadata": {},
      "outputs": [
        {
          "data": {
            "text/plain": [
              "array(['Bangalore', 'Pune', 'New Delhi'], dtype=object)"
            ]
          },
          "execution_count": 14,
          "metadata": {},
          "output_type": "execute_result"
        }
      ],
      "source": [
        "df_employee['City'].unique()"
      ]
    },
    {
      "cell_type": "code",
      "execution_count": 15,
      "metadata": {},
      "outputs": [
        {
          "data": {
            "text/plain": [
              "array(['Male', 'Female'], dtype=object)"
            ]
          },
          "execution_count": 15,
          "metadata": {},
          "output_type": "execute_result"
        }
      ],
      "source": [
        "df_employee['Gender'].unique()"
      ]
    },
    {
      "cell_type": "code",
      "execution_count": 16,
      "metadata": {},
      "outputs": [
        {
          "data": {
            "text/plain": [
              "array(['No', 'Yes'], dtype=object)"
            ]
          },
          "execution_count": 16,
          "metadata": {},
          "output_type": "execute_result"
        }
      ],
      "source": [
        "df_employee['EverBenched'].unique()"
      ]
    },
    {
      "cell_type": "markdown",
      "metadata": {},
      "source": [
        "Lakukan Mapping sebagai berikut:\n",
        "- Education : 1 = 'Bachelors' ; 2 = 'Masters' ; 3 ='PHD'\n",
        "- City : 1 = 'Bangalore' ; 2 = 'Pune' ; 3 = 'New Delhi'\n",
        "- Gender : 1 = 'Male' ; 2 = 'Female'\n",
        "- EverBenched : 0 = 'No' ; 1 = 'Yes'"
      ]
    },
    {
      "cell_type": "code",
      "execution_count": 17,
      "metadata": {
        "id": "GmjE7R4n0a_l"
      },
      "outputs": [],
      "source": [
        "# Function untuk grouping feature menjadi nilai int \n",
        "def grouping_feature(df, variable, dict):\n",
        "   for ind in df.index:\n",
        "      dic_name = df[variable][ind]\n",
        "      if dic_name == np.NaN:\n",
        "         df_employee[variable][ind] = 0    \n",
        "      else:   \n",
        "         df_employee[variable][ind] = int(dict[dic_name])"
      ]
    },
    {
      "cell_type": "code",
      "execution_count": 18,
      "metadata": {},
      "outputs": [],
      "source": [
        "dict_education ={\n",
        "    'Bachelors' : 1, 'Masters' : 2, 'PHD' : 3\n",
        "} \n",
        "\n",
        "dict_city ={\n",
        "    'Bangalore' : 1, 'Pune' : 2, 'New Delhi' : 3\n",
        "} \n",
        "\n",
        "dict_gender ={\n",
        "    'Male' : 1, 'Female' : 2\n",
        "}\n",
        "\n",
        "dict_everbenched = {\n",
        "    'No' : 0, 'Yes' : 1  \n",
        "}\n",
        "\n"
      ]
    },
    {
      "cell_type": "code",
      "execution_count": 19,
      "metadata": {
        "id": "1TGQCQVP0a_m",
        "outputId": "96984076-dffb-4f4a-804e-6d5cae80fe76"
      },
      "outputs": [
        {
          "name": "stderr",
          "output_type": "stream",
          "text": [
            "C:\\Users\\010497\\AppData\\Local\\Temp/ipykernel_620/2291873335.py:8: SettingWithCopyWarning: \n",
            "A value is trying to be set on a copy of a slice from a DataFrame\n",
            "\n",
            "See the caveats in the documentation: https://pandas.pydata.org/pandas-docs/stable/user_guide/indexing.html#returning-a-view-versus-a-copy\n",
            "  df_employee[variable][ind] = int(dict[dic_name])\n"
          ]
        }
      ],
      "source": [
        "grouping_feature(df_employee, 'Education',dict_education)\n",
        "grouping_feature(df_employee, 'City',dict_city)\n",
        "grouping_feature(df_employee, 'Gender',dict_gender)\n",
        "grouping_feature(df_employee, 'EverBenched',dict_everbenched)\n",
        "\n"
      ]
    },
    {
      "cell_type": "markdown",
      "metadata": {},
      "source": [
        "Lakukan pengecekan apakah masih ada data yang null"
      ]
    },
    {
      "cell_type": "code",
      "execution_count": 20,
      "metadata": {
        "id": "rXVpRNsB0a_m",
        "outputId": "9003d078-0b1d-4329-f229-d6fc1b3c4c75"
      },
      "outputs": [
        {
          "data": {
            "text/plain": [
              "Education                    False\n",
              "JoiningYear                  False\n",
              "City                         False\n",
              "PaymentTier                  False\n",
              "Age                          False\n",
              "Gender                       False\n",
              "EverBenched                  False\n",
              "ExperienceInCurrentDomain    False\n",
              "LeaveOrNot                   False\n",
              "dtype: bool"
            ]
          },
          "execution_count": 20,
          "metadata": {},
          "output_type": "execute_result"
        }
      ],
      "source": [
        "df_employee.isnull().any()"
      ]
    },
    {
      "cell_type": "markdown",
      "metadata": {},
      "source": [
        "Ubah semua tipe data menjadi Integer atau Float"
      ]
    },
    {
      "cell_type": "code",
      "execution_count": 21,
      "metadata": {
        "id": "MCphiF1R0a_m"
      },
      "outputs": [],
      "source": [
        "\n",
        "df_employee = df_employee.astype({\"Education\": int,\"City\": int,\"Gender\": int,\"EverBenched\": int})"
      ]
    },
    {
      "cell_type": "code",
      "execution_count": 22,
      "metadata": {
        "id": "9y0-rJeC0a_m",
        "outputId": "069e60f5-ffd5-47da-ae90-f518afbadd47"
      },
      "outputs": [
        {
          "name": "stdout",
          "output_type": "stream",
          "text": [
            "<class 'pandas.core.frame.DataFrame'>\n",
            "RangeIndex: 4653 entries, 0 to 4652\n",
            "Data columns (total 9 columns):\n",
            " #   Column                     Non-Null Count  Dtype\n",
            "---  ------                     --------------  -----\n",
            " 0   Education                  4653 non-null   int32\n",
            " 1   JoiningYear                4653 non-null   int64\n",
            " 2   City                       4653 non-null   int32\n",
            " 3   PaymentTier                4653 non-null   int64\n",
            " 4   Age                        4653 non-null   int64\n",
            " 5   Gender                     4653 non-null   int32\n",
            " 6   EverBenched                4653 non-null   int32\n",
            " 7   ExperienceInCurrentDomain  4653 non-null   int64\n",
            " 8   LeaveOrNot                 4653 non-null   int64\n",
            "dtypes: int32(4), int64(5)\n",
            "memory usage: 254.6 KB\n"
          ]
        }
      ],
      "source": [
        "df_employee.info()"
      ]
    },
    {
      "cell_type": "markdown",
      "metadata": {},
      "source": [
        "## Exploring Data Analysis\n",
        "\n",
        "Coba melakukan analisa Data:\n",
        "- Melihat masing-masing feature terhadap output 'LeaveOrNot'\n",
        "- Melihat Corelasi dari masing-masing feature"
      ]
    },
    {
      "cell_type": "code",
      "execution_count": 23,
      "metadata": {},
      "outputs": [
        {
          "name": "stdout",
          "output_type": "stream",
          "text": [
            "Education\n"
          ]
        },
        {
          "data": {
            "image/png": "[encoded data removed]",
            "text/plain": [
              "<Figure size 1152x288 with 1 Axes>"
            ]
          },
          "metadata": {
            "needs_background": "light"
          },
          "output_type": "display_data"
        },
        {
          "name": "stdout",
          "output_type": "stream",
          "text": [
            "JoiningYear\n"
          ]
        },
        {
          "data": {
            "image/png": "[encoded data removed]",
            "text/plain": [
              "<Figure size 1152x288 with 1 Axes>"
            ]
          },
          "metadata": {
            "needs_background": "light"
          },
          "output_type": "display_data"
        },
        {
          "name": "stdout",
          "output_type": "stream",
          "text": [
            "City\n"
          ]
        },
        {
          "data": {
            "image/png": "[encoded data removed]",
            "text/plain": [
              "<Figure size 1152x288 with 1 Axes>"
            ]
          },
          "metadata": {
            "needs_background": "light"
          },
          "output_type": "display_data"
        },
        {
          "name": "stdout",
          "output_type": "stream",
          "text": [
            "PaymentTier\n"
          ]
        },
        {
          "data": {
            "image/png": "[encoded data removed]",
            "text/plain": [
              "<Figure size 1152x288 with 1 Axes>"
            ]
          },
          "metadata": {
            "needs_background": "light"
          },
          "output_type": "display_data"
        },
        {
          "name": "stdout",
          "output_type": "stream",
          "text": [
            "Age\n"
          ]
        },
        {
          "data": {
            "image/png": "[encoded data removed]",
            "text/plain": [
              "<Figure size 1152x288 with 1 Axes>"
            ]
          },
          "metadata": {
            "needs_background": "light"
          },
          "output_type": "display_data"
        },
        {
          "name": "stdout",
          "output_type": "stream",
          "text": [
            "Gender\n"
          ]
        },
        {
          "data": {
            "image/png": "[encoded data removed]",
            "text/plain": [
              "<Figure size 1152x288 with 1 Axes>"
            ]
          },
          "metadata": {
            "needs_background": "light"
          },
          "output_type": "display_data"
        },
        {
          "name": "stdout",
          "output_type": "stream",
          "text": [
            "EverBenched\n"
          ]
        },
        {
          "data": {
            "image/png": "[encoded data removed]",
            "text/plain": [
              "<Figure size 1152x288 with 1 Axes>"
            ]
          },
          "metadata": {
            "needs_background": "light"
          },
          "output_type": "display_data"
        },
        {
          "name": "stdout",
          "output_type": "stream",
          "text": [
            "ExperienceInCurrentDomain\n"
          ]
        },
        {
          "data": {
            "image/png": "[encoded data removed]",
            "text/plain": [
              "<Figure size 1152x288 with 1 Axes>"
            ]
          },
          "metadata": {
            "needs_background": "light"
          },
          "output_type": "display_data"
        }
      ],
      "source": [
        "\n",
        "for index,column in enumerate(df_employee):\n",
        "    if column != 'LeaveOrNot':\n",
        "        print(column)\n",
        "        plt.figure(figsize=(16,4))\n",
        "        plt.subplot(1,2,1)\n",
        "        sns.countplot(data=df_employee,x=column,hue = df_employee.LeaveOrNot)\n",
        "        plt.tight_layout(pad = 1.0)\n",
        "        plt.show()\n",
        "    "
      ]
    },
    {
      "cell_type": "markdown",
      "metadata": {},
      "source": [
        "Melihat porsi atau percentage output `LeaveOrNot` pada masing masing featurer"
      ]
    },
    {
      "cell_type": "code",
      "execution_count": 24,
      "metadata": {},
      "outputs": [],
      "source": [
        "def diagnostic_tables(df, column):\n",
        "    df_yn = df.groupby([column,'LeaveOrNot']).size().reset_index(name='count')\n",
        "    df_yn_total = df_yn.groupby([column]).sum()[['count']].reset_index() \n",
        "    df_yn['Percent Of Sub Total']  = df_yn['count']\n",
        "    df_yn['Percent Of Sub Total'] = df_yn['Percent Of Sub Total'].astype(float)\n",
        "    df_yn['Percent Of Total'] = ((df_yn['count'] / df_yn['count'].sum())*100).round(2)\n",
        "    for index, row in df_yn.iterrows():\n",
        "        df_yn.at[index,'Percent Of Sub Total'] = (df_yn.at[index,'count'] / df_yn_total['count'][df_yn_total[column] == row[column]] * 100).round(2)\n",
        "\n",
        "    df_yn = df_yn.set_index([column, 'LeaveOrNot'])    \n",
        "    return df_yn"
      ]
    },
    {
      "cell_type": "code",
      "execution_count": 25,
      "metadata": {},
      "outputs": [
        {
          "data": {
            "text/html": [
              "<div>\n",
              "<style scoped>\n",
              "    .dataframe tbody tr th:only-of-type {\n",
              "        vertical-align: middle;\n",
              "    }\n",
              "\n",
              "    .dataframe tbody tr th {\n",
              "        vertical-align: top;\n",
              "    }\n",
              "\n",
              "    .dataframe thead th {\n",
              "        text-align: right;\n",
              "    }\n",
              "</style>\n",
              "<table border=\"1\" class=\"dataframe\">\n",
              "  <thead>\n",
              "    <tr style=\"text-align: right;\">\n",
              "      <th></th>\n",
              "      <th></th>\n",
              "      <th>count</th>\n",
              "      <th>Percent Of Sub Total</th>\n",
              "      <th>Percent Of Total</th>\n",
              "    </tr>\n",
              "    <tr>\n",
              "      <th>Education</th>\n",
              "      <th>LeaveOrNot</th>\n",
              "      <th></th>\n",
              "      <th></th>\n",
              "      <th></th>\n",
              "    </tr>\n",
              "  </thead>\n",
              "  <tbody>\n",
              "    <tr>\n",
              "      <th rowspan=\"2\" valign=\"top\">1</th>\n",
              "      <th>0</th>\n",
              "      <td>2472</td>\n",
              "      <td>68.65</td>\n",
              "      <td>53.13</td>\n",
              "    </tr>\n",
              "    <tr>\n",
              "      <th>1</th>\n",
              "      <td>1129</td>\n",
              "      <td>31.35</td>\n",
              "      <td>24.26</td>\n",
              "    </tr>\n",
              "    <tr>\n",
              "      <th rowspan=\"2\" valign=\"top\">2</th>\n",
              "      <th>0</th>\n",
              "      <td>447</td>\n",
              "      <td>51.20</td>\n",
              "      <td>9.61</td>\n",
              "    </tr>\n",
              "    <tr>\n",
              "      <th>1</th>\n",
              "      <td>426</td>\n",
              "      <td>48.80</td>\n",
              "      <td>9.16</td>\n",
              "    </tr>\n",
              "    <tr>\n",
              "      <th rowspan=\"2\" valign=\"top\">3</th>\n",
              "      <th>0</th>\n",
              "      <td>134</td>\n",
              "      <td>74.86</td>\n",
              "      <td>2.88</td>\n",
              "    </tr>\n",
              "    <tr>\n",
              "      <th>1</th>\n",
              "      <td>45</td>\n",
              "      <td>25.14</td>\n",
              "      <td>0.97</td>\n",
              "    </tr>\n",
              "  </tbody>\n",
              "</table>\n",
              "</div>"
            ],
            "text/plain": [
              "                      count  Percent Of Sub Total  Percent Of Total\n",
              "Education LeaveOrNot                                               \n",
              "1         0            2472                 68.65             53.13\n",
              "          1            1129                 31.35             24.26\n",
              "2         0             447                 51.20              9.61\n",
              "          1             426                 48.80              9.16\n",
              "3         0             134                 74.86              2.88\n",
              "          1              45                 25.14              0.97"
            ]
          },
          "execution_count": 25,
          "metadata": {},
          "output_type": "execute_result"
        }
      ],
      "source": [
        "df_education = diagnostic_tables(df_employee,'Education')\n",
        "df_education"
      ]
    },
    {
      "cell_type": "code",
      "execution_count": 26,
      "metadata": {},
      "outputs": [
        {
          "data": {
            "text/html": [
              "<div>\n",
              "<style scoped>\n",
              "    .dataframe tbody tr th:only-of-type {\n",
              "        vertical-align: middle;\n",
              "    }\n",
              "\n",
              "    .dataframe tbody tr th {\n",
              "        vertical-align: top;\n",
              "    }\n",
              "\n",
              "    .dataframe thead th {\n",
              "        text-align: right;\n",
              "    }\n",
              "</style>\n",
              "<table border=\"1\" class=\"dataframe\">\n",
              "  <thead>\n",
              "    <tr style=\"text-align: right;\">\n",
              "      <th></th>\n",
              "      <th></th>\n",
              "      <th>count</th>\n",
              "      <th>Percent Of Sub Total</th>\n",
              "      <th>Percent Of Total</th>\n",
              "    </tr>\n",
              "    <tr>\n",
              "      <th>JoiningYear</th>\n",
              "      <th>LeaveOrNot</th>\n",
              "      <th></th>\n",
              "      <th></th>\n",
              "      <th></th>\n",
              "    </tr>\n",
              "  </thead>\n",
              "  <tbody>\n",
              "    <tr>\n",
              "      <th rowspan=\"2\" valign=\"top\">2012</th>\n",
              "      <th>0</th>\n",
              "      <td>395</td>\n",
              "      <td>78.37</td>\n",
              "      <td>8.49</td>\n",
              "    </tr>\n",
              "    <tr>\n",
              "      <th>1</th>\n",
              "      <td>109</td>\n",
              "      <td>21.63</td>\n",
              "      <td>2.34</td>\n",
              "    </tr>\n",
              "    <tr>\n",
              "      <th rowspan=\"2\" valign=\"top\">2013</th>\n",
              "      <th>0</th>\n",
              "      <td>445</td>\n",
              "      <td>66.52</td>\n",
              "      <td>9.56</td>\n",
              "    </tr>\n",
              "    <tr>\n",
              "      <th>1</th>\n",
              "      <td>224</td>\n",
              "      <td>33.48</td>\n",
              "      <td>4.81</td>\n",
              "    </tr>\n",
              "    <tr>\n",
              "      <th rowspan=\"2\" valign=\"top\">2014</th>\n",
              "      <th>0</th>\n",
              "      <td>526</td>\n",
              "      <td>75.25</td>\n",
              "      <td>11.30</td>\n",
              "    </tr>\n",
              "    <tr>\n",
              "      <th>1</th>\n",
              "      <td>173</td>\n",
              "      <td>24.75</td>\n",
              "      <td>3.72</td>\n",
              "    </tr>\n",
              "    <tr>\n",
              "      <th rowspan=\"2\" valign=\"top\">2015</th>\n",
              "      <th>0</th>\n",
              "      <td>463</td>\n",
              "      <td>59.28</td>\n",
              "      <td>9.95</td>\n",
              "    </tr>\n",
              "    <tr>\n",
              "      <th>1</th>\n",
              "      <td>318</td>\n",
              "      <td>40.72</td>\n",
              "      <td>6.83</td>\n",
              "    </tr>\n",
              "    <tr>\n",
              "      <th rowspan=\"2\" valign=\"top\">2016</th>\n",
              "      <th>0</th>\n",
              "      <td>408</td>\n",
              "      <td>77.71</td>\n",
              "      <td>8.77</td>\n",
              "    </tr>\n",
              "    <tr>\n",
              "      <th>1</th>\n",
              "      <td>117</td>\n",
              "      <td>22.29</td>\n",
              "      <td>2.51</td>\n",
              "    </tr>\n",
              "    <tr>\n",
              "      <th rowspan=\"2\" valign=\"top\">2017</th>\n",
              "      <th>0</th>\n",
              "      <td>811</td>\n",
              "      <td>73.19</td>\n",
              "      <td>17.43</td>\n",
              "    </tr>\n",
              "    <tr>\n",
              "      <th>1</th>\n",
              "      <td>297</td>\n",
              "      <td>26.81</td>\n",
              "      <td>6.38</td>\n",
              "    </tr>\n",
              "    <tr>\n",
              "      <th rowspan=\"2\" valign=\"top\">2018</th>\n",
              "      <th>0</th>\n",
              "      <td>5</td>\n",
              "      <td>1.36</td>\n",
              "      <td>0.11</td>\n",
              "    </tr>\n",
              "    <tr>\n",
              "      <th>1</th>\n",
              "      <td>362</td>\n",
              "      <td>98.64</td>\n",
              "      <td>7.78</td>\n",
              "    </tr>\n",
              "  </tbody>\n",
              "</table>\n",
              "</div>"
            ],
            "text/plain": [
              "                        count  Percent Of Sub Total  Percent Of Total\n",
              "JoiningYear LeaveOrNot                                               \n",
              "2012        0             395                 78.37              8.49\n",
              "            1             109                 21.63              2.34\n",
              "2013        0             445                 66.52              9.56\n",
              "            1             224                 33.48              4.81\n",
              "2014        0             526                 75.25             11.30\n",
              "            1             173                 24.75              3.72\n",
              "2015        0             463                 59.28              9.95\n",
              "            1             318                 40.72              6.83\n",
              "2016        0             408                 77.71              8.77\n",
              "            1             117                 22.29              2.51\n",
              "2017        0             811                 73.19             17.43\n",
              "            1             297                 26.81              6.38\n",
              "2018        0               5                  1.36              0.11\n",
              "            1             362                 98.64              7.78"
            ]
          },
          "execution_count": 26,
          "metadata": {},
          "output_type": "execute_result"
        }
      ],
      "source": [
        "df_joiningyear = diagnostic_tables(df_employee,'JoiningYear')\n",
        "df_joiningyear"
      ]
    },
    {
      "cell_type": "code",
      "execution_count": 27,
      "metadata": {},
      "outputs": [
        {
          "data": {
            "text/html": [
              "<div>\n",
              "<style scoped>\n",
              "    .dataframe tbody tr th:only-of-type {\n",
              "        vertical-align: middle;\n",
              "    }\n",
              "\n",
              "    .dataframe tbody tr th {\n",
              "        vertical-align: top;\n",
              "    }\n",
              "\n",
              "    .dataframe thead th {\n",
              "        text-align: right;\n",
              "    }\n",
              "</style>\n",
              "<table border=\"1\" class=\"dataframe\">\n",
              "  <thead>\n",
              "    <tr style=\"text-align: right;\">\n",
              "      <th></th>\n",
              "      <th></th>\n",
              "      <th>count</th>\n",
              "      <th>Percent Of Sub Total</th>\n",
              "      <th>Percent Of Total</th>\n",
              "    </tr>\n",
              "    <tr>\n",
              "      <th>City</th>\n",
              "      <th>LeaveOrNot</th>\n",
              "      <th></th>\n",
              "      <th></th>\n",
              "      <th></th>\n",
              "    </tr>\n",
              "  </thead>\n",
              "  <tbody>\n",
              "    <tr>\n",
              "      <th rowspan=\"2\" valign=\"top\">1</th>\n",
              "      <th>0</th>\n",
              "      <td>1633</td>\n",
              "      <td>73.29</td>\n",
              "      <td>35.10</td>\n",
              "    </tr>\n",
              "    <tr>\n",
              "      <th>1</th>\n",
              "      <td>595</td>\n",
              "      <td>26.71</td>\n",
              "      <td>12.79</td>\n",
              "    </tr>\n",
              "    <tr>\n",
              "      <th rowspan=\"2\" valign=\"top\">2</th>\n",
              "      <th>0</th>\n",
              "      <td>629</td>\n",
              "      <td>49.61</td>\n",
              "      <td>13.52</td>\n",
              "    </tr>\n",
              "    <tr>\n",
              "      <th>1</th>\n",
              "      <td>639</td>\n",
              "      <td>50.39</td>\n",
              "      <td>13.73</td>\n",
              "    </tr>\n",
              "    <tr>\n",
              "      <th rowspan=\"2\" valign=\"top\">3</th>\n",
              "      <th>0</th>\n",
              "      <td>791</td>\n",
              "      <td>68.37</td>\n",
              "      <td>17.00</td>\n",
              "    </tr>\n",
              "    <tr>\n",
              "      <th>1</th>\n",
              "      <td>366</td>\n",
              "      <td>31.63</td>\n",
              "      <td>7.87</td>\n",
              "    </tr>\n",
              "  </tbody>\n",
              "</table>\n",
              "</div>"
            ],
            "text/plain": [
              "                 count  Percent Of Sub Total  Percent Of Total\n",
              "City LeaveOrNot                                               \n",
              "1    0            1633                 73.29             35.10\n",
              "     1             595                 26.71             12.79\n",
              "2    0             629                 49.61             13.52\n",
              "     1             639                 50.39             13.73\n",
              "3    0             791                 68.37             17.00\n",
              "     1             366                 31.63              7.87"
            ]
          },
          "execution_count": 27,
          "metadata": {},
          "output_type": "execute_result"
        }
      ],
      "source": [
        "df_city = diagnostic_tables(df_employee,'City')\n",
        "df_city"
      ]
    },
    {
      "cell_type": "code",
      "execution_count": 28,
      "metadata": {},
      "outputs": [
        {
          "data": {
            "text/html": [
              "<div>\n",
              "<style scoped>\n",
              "    .dataframe tbody tr th:only-of-type {\n",
              "        vertical-align: middle;\n",
              "    }\n",
              "\n",
              "    .dataframe tbody tr th {\n",
              "        vertical-align: top;\n",
              "    }\n",
              "\n",
              "    .dataframe thead th {\n",
              "        text-align: right;\n",
              "    }\n",
              "</style>\n",
              "<table border=\"1\" class=\"dataframe\">\n",
              "  <thead>\n",
              "    <tr style=\"text-align: right;\">\n",
              "      <th></th>\n",
              "      <th></th>\n",
              "      <th>count</th>\n",
              "      <th>Percent Of Sub Total</th>\n",
              "      <th>Percent Of Total</th>\n",
              "    </tr>\n",
              "    <tr>\n",
              "      <th>PaymentTier</th>\n",
              "      <th>LeaveOrNot</th>\n",
              "      <th></th>\n",
              "      <th></th>\n",
              "      <th></th>\n",
              "    </tr>\n",
              "  </thead>\n",
              "  <tbody>\n",
              "    <tr>\n",
              "      <th rowspan=\"2\" valign=\"top\">1</th>\n",
              "      <th>0</th>\n",
              "      <td>154</td>\n",
              "      <td>63.37</td>\n",
              "      <td>3.31</td>\n",
              "    </tr>\n",
              "    <tr>\n",
              "      <th>1</th>\n",
              "      <td>89</td>\n",
              "      <td>36.63</td>\n",
              "      <td>1.91</td>\n",
              "    </tr>\n",
              "    <tr>\n",
              "      <th rowspan=\"2\" valign=\"top\">2</th>\n",
              "      <th>0</th>\n",
              "      <td>368</td>\n",
              "      <td>40.09</td>\n",
              "      <td>7.91</td>\n",
              "    </tr>\n",
              "    <tr>\n",
              "      <th>1</th>\n",
              "      <td>550</td>\n",
              "      <td>59.91</td>\n",
              "      <td>11.82</td>\n",
              "    </tr>\n",
              "    <tr>\n",
              "      <th rowspan=\"2\" valign=\"top\">3</th>\n",
              "      <th>0</th>\n",
              "      <td>2531</td>\n",
              "      <td>72.48</td>\n",
              "      <td>54.40</td>\n",
              "    </tr>\n",
              "    <tr>\n",
              "      <th>1</th>\n",
              "      <td>961</td>\n",
              "      <td>27.52</td>\n",
              "      <td>20.65</td>\n",
              "    </tr>\n",
              "  </tbody>\n",
              "</table>\n",
              "</div>"
            ],
            "text/plain": [
              "                        count  Percent Of Sub Total  Percent Of Total\n",
              "PaymentTier LeaveOrNot                                               \n",
              "1           0             154                 63.37              3.31\n",
              "            1              89                 36.63              1.91\n",
              "2           0             368                 40.09              7.91\n",
              "            1             550                 59.91             11.82\n",
              "3           0            2531                 72.48             54.40\n",
              "            1             961                 27.52             20.65"
            ]
          },
          "execution_count": 28,
          "metadata": {},
          "output_type": "execute_result"
        }
      ],
      "source": [
        "df_paymenttier = diagnostic_tables(df_employee,'PaymentTier')\n",
        "df_paymenttier"
      ]
    },
    {
      "cell_type": "code",
      "execution_count": 29,
      "metadata": {},
      "outputs": [
        {
          "data": {
            "text/html": [
              "<div>\n",
              "<style scoped>\n",
              "    .dataframe tbody tr th:only-of-type {\n",
              "        vertical-align: middle;\n",
              "    }\n",
              "\n",
              "    .dataframe tbody tr th {\n",
              "        vertical-align: top;\n",
              "    }\n",
              "\n",
              "    .dataframe thead th {\n",
              "        text-align: right;\n",
              "    }\n",
              "</style>\n",
              "<table border=\"1\" class=\"dataframe\">\n",
              "  <thead>\n",
              "    <tr style=\"text-align: right;\">\n",
              "      <th></th>\n",
              "      <th></th>\n",
              "      <th>count</th>\n",
              "      <th>Percent Of Sub Total</th>\n",
              "      <th>Percent Of Total</th>\n",
              "    </tr>\n",
              "    <tr>\n",
              "      <th>Age</th>\n",
              "      <th>LeaveOrNot</th>\n",
              "      <th></th>\n",
              "      <th></th>\n",
              "      <th></th>\n",
              "    </tr>\n",
              "  </thead>\n",
              "  <tbody>\n",
              "    <tr>\n",
              "      <th rowspan=\"2\" valign=\"top\">22</th>\n",
              "      <th>0</th>\n",
              "      <td>30</td>\n",
              "      <td>61.22</td>\n",
              "      <td>0.64</td>\n",
              "    </tr>\n",
              "    <tr>\n",
              "      <th>1</th>\n",
              "      <td>19</td>\n",
              "      <td>38.78</td>\n",
              "      <td>0.41</td>\n",
              "    </tr>\n",
              "    <tr>\n",
              "      <th rowspan=\"2\" valign=\"top\">23</th>\n",
              "      <th>0</th>\n",
              "      <td>32</td>\n",
              "      <td>66.67</td>\n",
              "      <td>0.69</td>\n",
              "    </tr>\n",
              "    <tr>\n",
              "      <th>1</th>\n",
              "      <td>16</td>\n",
              "      <td>33.33</td>\n",
              "      <td>0.34</td>\n",
              "    </tr>\n",
              "    <tr>\n",
              "      <th rowspan=\"2\" valign=\"top\">24</th>\n",
              "      <th>0</th>\n",
              "      <td>232</td>\n",
              "      <td>60.26</td>\n",
              "      <td>4.99</td>\n",
              "    </tr>\n",
              "    <tr>\n",
              "      <th>1</th>\n",
              "      <td>153</td>\n",
              "      <td>39.74</td>\n",
              "      <td>3.29</td>\n",
              "    </tr>\n",
              "    <tr>\n",
              "      <th rowspan=\"2\" valign=\"top\">25</th>\n",
              "      <th>0</th>\n",
              "      <td>242</td>\n",
              "      <td>57.89</td>\n",
              "      <td>5.20</td>\n",
              "    </tr>\n",
              "    <tr>\n",
              "      <th>1</th>\n",
              "      <td>176</td>\n",
              "      <td>42.11</td>\n",
              "      <td>3.78</td>\n",
              "    </tr>\n",
              "    <tr>\n",
              "      <th rowspan=\"2\" valign=\"top\">26</th>\n",
              "      <th>0</th>\n",
              "      <td>422</td>\n",
              "      <td>65.43</td>\n",
              "      <td>9.07</td>\n",
              "    </tr>\n",
              "    <tr>\n",
              "      <th>1</th>\n",
              "      <td>223</td>\n",
              "      <td>34.57</td>\n",
              "      <td>4.79</td>\n",
              "    </tr>\n",
              "    <tr>\n",
              "      <th rowspan=\"2\" valign=\"top\">27</th>\n",
              "      <th>0</th>\n",
              "      <td>399</td>\n",
              "      <td>63.84</td>\n",
              "      <td>8.58</td>\n",
              "    </tr>\n",
              "    <tr>\n",
              "      <th>1</th>\n",
              "      <td>226</td>\n",
              "      <td>36.16</td>\n",
              "      <td>4.86</td>\n",
              "    </tr>\n",
              "    <tr>\n",
              "      <th rowspan=\"2\" valign=\"top\">28</th>\n",
              "      <th>0</th>\n",
              "      <td>444</td>\n",
              "      <td>70.48</td>\n",
              "      <td>9.54</td>\n",
              "    </tr>\n",
              "    <tr>\n",
              "      <th>1</th>\n",
              "      <td>186</td>\n",
              "      <td>29.52</td>\n",
              "      <td>4.00</td>\n",
              "    </tr>\n",
              "    <tr>\n",
              "      <th rowspan=\"2\" valign=\"top\">29</th>\n",
              "      <th>0</th>\n",
              "      <td>155</td>\n",
              "      <td>67.39</td>\n",
              "      <td>3.33</td>\n",
              "    </tr>\n",
              "    <tr>\n",
              "      <th>1</th>\n",
              "      <td>75</td>\n",
              "      <td>32.61</td>\n",
              "      <td>1.61</td>\n",
              "    </tr>\n",
              "    <tr>\n",
              "      <th rowspan=\"2\" valign=\"top\">30</th>\n",
              "      <th>0</th>\n",
              "      <td>143</td>\n",
              "      <td>65.00</td>\n",
              "      <td>3.07</td>\n",
              "    </tr>\n",
              "    <tr>\n",
              "      <th>1</th>\n",
              "      <td>77</td>\n",
              "      <td>35.00</td>\n",
              "      <td>1.65</td>\n",
              "    </tr>\n",
              "    <tr>\n",
              "      <th rowspan=\"2\" valign=\"top\">31</th>\n",
              "      <th>0</th>\n",
              "      <td>88</td>\n",
              "      <td>70.40</td>\n",
              "      <td>1.89</td>\n",
              "    </tr>\n",
              "    <tr>\n",
              "      <th>1</th>\n",
              "      <td>37</td>\n",
              "      <td>29.60</td>\n",
              "      <td>0.80</td>\n",
              "    </tr>\n",
              "    <tr>\n",
              "      <th rowspan=\"2\" valign=\"top\">32</th>\n",
              "      <th>0</th>\n",
              "      <td>78</td>\n",
              "      <td>59.09</td>\n",
              "      <td>1.68</td>\n",
              "    </tr>\n",
              "    <tr>\n",
              "      <th>1</th>\n",
              "      <td>54</td>\n",
              "      <td>40.91</td>\n",
              "      <td>1.16</td>\n",
              "    </tr>\n",
              "    <tr>\n",
              "      <th rowspan=\"2\" valign=\"top\">33</th>\n",
              "      <th>0</th>\n",
              "      <td>84</td>\n",
              "      <td>67.74</td>\n",
              "      <td>1.81</td>\n",
              "    </tr>\n",
              "    <tr>\n",
              "      <th>1</th>\n",
              "      <td>40</td>\n",
              "      <td>32.26</td>\n",
              "      <td>0.86</td>\n",
              "    </tr>\n",
              "    <tr>\n",
              "      <th rowspan=\"2\" valign=\"top\">34</th>\n",
              "      <th>0</th>\n",
              "      <td>94</td>\n",
              "      <td>69.12</td>\n",
              "      <td>2.02</td>\n",
              "    </tr>\n",
              "    <tr>\n",
              "      <th>1</th>\n",
              "      <td>42</td>\n",
              "      <td>30.88</td>\n",
              "      <td>0.90</td>\n",
              "    </tr>\n",
              "    <tr>\n",
              "      <th rowspan=\"2\" valign=\"top\">35</th>\n",
              "      <th>0</th>\n",
              "      <td>78</td>\n",
              "      <td>63.41</td>\n",
              "      <td>1.68</td>\n",
              "    </tr>\n",
              "    <tr>\n",
              "      <th>1</th>\n",
              "      <td>45</td>\n",
              "      <td>36.59</td>\n",
              "      <td>0.97</td>\n",
              "    </tr>\n",
              "    <tr>\n",
              "      <th rowspan=\"2\" valign=\"top\">36</th>\n",
              "      <th>0</th>\n",
              "      <td>94</td>\n",
              "      <td>67.63</td>\n",
              "      <td>2.02</td>\n",
              "    </tr>\n",
              "    <tr>\n",
              "      <th>1</th>\n",
              "      <td>45</td>\n",
              "      <td>32.37</td>\n",
              "      <td>0.97</td>\n",
              "    </tr>\n",
              "    <tr>\n",
              "      <th rowspan=\"2\" valign=\"top\">37</th>\n",
              "      <th>0</th>\n",
              "      <td>98</td>\n",
              "      <td>69.50</td>\n",
              "      <td>2.11</td>\n",
              "    </tr>\n",
              "    <tr>\n",
              "      <th>1</th>\n",
              "      <td>43</td>\n",
              "      <td>30.50</td>\n",
              "      <td>0.92</td>\n",
              "    </tr>\n",
              "    <tr>\n",
              "      <th rowspan=\"2\" valign=\"top\">38</th>\n",
              "      <th>0</th>\n",
              "      <td>96</td>\n",
              "      <td>70.59</td>\n",
              "      <td>2.06</td>\n",
              "    </tr>\n",
              "    <tr>\n",
              "      <th>1</th>\n",
              "      <td>40</td>\n",
              "      <td>29.41</td>\n",
              "      <td>0.86</td>\n",
              "    </tr>\n",
              "    <tr>\n",
              "      <th rowspan=\"2\" valign=\"top\">39</th>\n",
              "      <th>0</th>\n",
              "      <td>92</td>\n",
              "      <td>70.23</td>\n",
              "      <td>1.98</td>\n",
              "    </tr>\n",
              "    <tr>\n",
              "      <th>1</th>\n",
              "      <td>39</td>\n",
              "      <td>29.77</td>\n",
              "      <td>0.84</td>\n",
              "    </tr>\n",
              "    <tr>\n",
              "      <th rowspan=\"2\" valign=\"top\">40</th>\n",
              "      <th>0</th>\n",
              "      <td>93</td>\n",
              "      <td>69.40</td>\n",
              "      <td>2.00</td>\n",
              "    </tr>\n",
              "    <tr>\n",
              "      <th>1</th>\n",
              "      <td>41</td>\n",
              "      <td>30.60</td>\n",
              "      <td>0.88</td>\n",
              "    </tr>\n",
              "    <tr>\n",
              "      <th rowspan=\"2\" valign=\"top\">41</th>\n",
              "      <th>0</th>\n",
              "      <td>59</td>\n",
              "      <td>71.95</td>\n",
              "      <td>1.27</td>\n",
              "    </tr>\n",
              "    <tr>\n",
              "      <th>1</th>\n",
              "      <td>23</td>\n",
              "      <td>28.05</td>\n",
              "      <td>0.49</td>\n",
              "    </tr>\n",
              "  </tbody>\n",
              "</table>\n",
              "</div>"
            ],
            "text/plain": [
              "                count  Percent Of Sub Total  Percent Of Total\n",
              "Age LeaveOrNot                                               \n",
              "22  0              30                 61.22              0.64\n",
              "    1              19                 38.78              0.41\n",
              "23  0              32                 66.67              0.69\n",
              "    1              16                 33.33              0.34\n",
              "24  0             232                 60.26              4.99\n",
              "    1             153                 39.74              3.29\n",
              "25  0             242                 57.89              5.20\n",
              "    1             176                 42.11              3.78\n",
              "26  0             422                 65.43              9.07\n",
              "    1             223                 34.57              4.79\n",
              "27  0             399                 63.84              8.58\n",
              "    1             226                 36.16              4.86\n",
              "28  0             444                 70.48              9.54\n",
              "    1             186                 29.52              4.00\n",
              "29  0             155                 67.39              3.33\n",
              "    1              75                 32.61              1.61\n",
              "30  0             143                 65.00              3.07\n",
              "    1              77                 35.00              1.65\n",
              "31  0              88                 70.40              1.89\n",
              "    1              37                 29.60              0.80\n",
              "32  0              78                 59.09              1.68\n",
              "    1              54                 40.91              1.16\n",
              "33  0              84                 67.74              1.81\n",
              "    1              40                 32.26              0.86\n",
              "34  0              94                 69.12              2.02\n",
              "    1              42                 30.88              0.90\n",
              "35  0              78                 63.41              1.68\n",
              "    1              45                 36.59              0.97\n",
              "36  0              94                 67.63              2.02\n",
              "    1              45                 32.37              0.97\n",
              "37  0              98                 69.50              2.11\n",
              "    1              43                 30.50              0.92\n",
              "38  0              96                 70.59              2.06\n",
              "    1              40                 29.41              0.86\n",
              "39  0              92                 70.23              1.98\n",
              "    1              39                 29.77              0.84\n",
              "40  0              93                 69.40              2.00\n",
              "    1              41                 30.60              0.88\n",
              "41  0              59                 71.95              1.27\n",
              "    1              23                 28.05              0.49"
            ]
          },
          "execution_count": 29,
          "metadata": {},
          "output_type": "execute_result"
        }
      ],
      "source": [
        "df_age = diagnostic_tables(df_employee,'Age')\n",
        "df_age"
      ]
    },
    {
      "cell_type": "code",
      "execution_count": 30,
      "metadata": {},
      "outputs": [
        {
          "data": {
            "text/html": [
              "<div>\n",
              "<style scoped>\n",
              "    .dataframe tbody tr th:only-of-type {\n",
              "        vertical-align: middle;\n",
              "    }\n",
              "\n",
              "    .dataframe tbody tr th {\n",
              "        vertical-align: top;\n",
              "    }\n",
              "\n",
              "    .dataframe thead th {\n",
              "        text-align: right;\n",
              "    }\n",
              "</style>\n",
              "<table border=\"1\" class=\"dataframe\">\n",
              "  <thead>\n",
              "    <tr style=\"text-align: right;\">\n",
              "      <th></th>\n",
              "      <th></th>\n",
              "      <th>count</th>\n",
              "      <th>Percent Of Sub Total</th>\n",
              "      <th>Percent Of Total</th>\n",
              "    </tr>\n",
              "    <tr>\n",
              "      <th>Gender</th>\n",
              "      <th>LeaveOrNot</th>\n",
              "      <th></th>\n",
              "      <th></th>\n",
              "      <th></th>\n",
              "    </tr>\n",
              "  </thead>\n",
              "  <tbody>\n",
              "    <tr>\n",
              "      <th rowspan=\"2\" valign=\"top\">1</th>\n",
              "      <th>0</th>\n",
              "      <td>2062</td>\n",
              "      <td>74.23</td>\n",
              "      <td>44.32</td>\n",
              "    </tr>\n",
              "    <tr>\n",
              "      <th>1</th>\n",
              "      <td>716</td>\n",
              "      <td>25.77</td>\n",
              "      <td>15.39</td>\n",
              "    </tr>\n",
              "    <tr>\n",
              "      <th rowspan=\"2\" valign=\"top\">2</th>\n",
              "      <th>0</th>\n",
              "      <td>991</td>\n",
              "      <td>52.85</td>\n",
              "      <td>21.30</td>\n",
              "    </tr>\n",
              "    <tr>\n",
              "      <th>1</th>\n",
              "      <td>884</td>\n",
              "      <td>47.15</td>\n",
              "      <td>19.00</td>\n",
              "    </tr>\n",
              "  </tbody>\n",
              "</table>\n",
              "</div>"
            ],
            "text/plain": [
              "                   count  Percent Of Sub Total  Percent Of Total\n",
              "Gender LeaveOrNot                                               \n",
              "1      0            2062                 74.23             44.32\n",
              "       1             716                 25.77             15.39\n",
              "2      0             991                 52.85             21.30\n",
              "       1             884                 47.15             19.00"
            ]
          },
          "execution_count": 30,
          "metadata": {},
          "output_type": "execute_result"
        }
      ],
      "source": [
        "df_gender = diagnostic_tables(df_employee,'Gender')\n",
        "df_gender"
      ]
    },
    {
      "cell_type": "code",
      "execution_count": 31,
      "metadata": {},
      "outputs": [
        {
          "data": {
            "text/html": [
              "<div>\n",
              "<style scoped>\n",
              "    .dataframe tbody tr th:only-of-type {\n",
              "        vertical-align: middle;\n",
              "    }\n",
              "\n",
              "    .dataframe tbody tr th {\n",
              "        vertical-align: top;\n",
              "    }\n",
              "\n",
              "    .dataframe thead th {\n",
              "        text-align: right;\n",
              "    }\n",
              "</style>\n",
              "<table border=\"1\" class=\"dataframe\">\n",
              "  <thead>\n",
              "    <tr style=\"text-align: right;\">\n",
              "      <th></th>\n",
              "      <th></th>\n",
              "      <th>count</th>\n",
              "      <th>Percent Of Sub Total</th>\n",
              "      <th>Percent Of Total</th>\n",
              "    </tr>\n",
              "    <tr>\n",
              "      <th>EverBenched</th>\n",
              "      <th>LeaveOrNot</th>\n",
              "      <th></th>\n",
              "      <th></th>\n",
              "      <th></th>\n",
              "    </tr>\n",
              "  </thead>\n",
              "  <tbody>\n",
              "    <tr>\n",
              "      <th rowspan=\"2\" valign=\"top\">0</th>\n",
              "      <th>0</th>\n",
              "      <td>2792</td>\n",
              "      <td>66.87</td>\n",
              "      <td>60.00</td>\n",
              "    </tr>\n",
              "    <tr>\n",
              "      <th>1</th>\n",
              "      <td>1383</td>\n",
              "      <td>33.13</td>\n",
              "      <td>29.72</td>\n",
              "    </tr>\n",
              "    <tr>\n",
              "      <th rowspan=\"2\" valign=\"top\">1</th>\n",
              "      <th>0</th>\n",
              "      <td>261</td>\n",
              "      <td>54.60</td>\n",
              "      <td>5.61</td>\n",
              "    </tr>\n",
              "    <tr>\n",
              "      <th>1</th>\n",
              "      <td>217</td>\n",
              "      <td>45.40</td>\n",
              "      <td>4.66</td>\n",
              "    </tr>\n",
              "  </tbody>\n",
              "</table>\n",
              "</div>"
            ],
            "text/plain": [
              "                        count  Percent Of Sub Total  Percent Of Total\n",
              "EverBenched LeaveOrNot                                               \n",
              "0           0            2792                 66.87             60.00\n",
              "            1            1383                 33.13             29.72\n",
              "1           0             261                 54.60              5.61\n",
              "            1             217                 45.40              4.66"
            ]
          },
          "execution_count": 31,
          "metadata": {},
          "output_type": "execute_result"
        }
      ],
      "source": [
        "df_everbenched = diagnostic_tables(df_employee,'EverBenched')\n",
        "df_everbenched"
      ]
    },
    {
      "cell_type": "code",
      "execution_count": 32,
      "metadata": {},
      "outputs": [
        {
          "data": {
            "text/html": [
              "<div>\n",
              "<style scoped>\n",
              "    .dataframe tbody tr th:only-of-type {\n",
              "        vertical-align: middle;\n",
              "    }\n",
              "\n",
              "    .dataframe tbody tr th {\n",
              "        vertical-align: top;\n",
              "    }\n",
              "\n",
              "    .dataframe thead th {\n",
              "        text-align: right;\n",
              "    }\n",
              "</style>\n",
              "<table border=\"1\" class=\"dataframe\">\n",
              "  <thead>\n",
              "    <tr style=\"text-align: right;\">\n",
              "      <th></th>\n",
              "      <th></th>\n",
              "      <th>count</th>\n",
              "      <th>Percent Of Sub Total</th>\n",
              "      <th>Percent Of Total</th>\n",
              "    </tr>\n",
              "    <tr>\n",
              "      <th>ExperienceInCurrentDomain</th>\n",
              "      <th>LeaveOrNot</th>\n",
              "      <th></th>\n",
              "      <th></th>\n",
              "      <th></th>\n",
              "    </tr>\n",
              "  </thead>\n",
              "  <tbody>\n",
              "    <tr>\n",
              "      <th rowspan=\"2\" valign=\"top\">0</th>\n",
              "      <th>0</th>\n",
              "      <td>231</td>\n",
              "      <td>65.07</td>\n",
              "      <td>4.96</td>\n",
              "    </tr>\n",
              "    <tr>\n",
              "      <th>1</th>\n",
              "      <td>124</td>\n",
              "      <td>34.93</td>\n",
              "      <td>2.66</td>\n",
              "    </tr>\n",
              "    <tr>\n",
              "      <th rowspan=\"2\" valign=\"top\">1</th>\n",
              "      <th>0</th>\n",
              "      <td>370</td>\n",
              "      <td>66.31</td>\n",
              "      <td>7.95</td>\n",
              "    </tr>\n",
              "    <tr>\n",
              "      <th>1</th>\n",
              "      <td>188</td>\n",
              "      <td>33.69</td>\n",
              "      <td>4.04</td>\n",
              "    </tr>\n",
              "    <tr>\n",
              "      <th rowspan=\"2\" valign=\"top\">2</th>\n",
              "      <th>0</th>\n",
              "      <td>688</td>\n",
              "      <td>63.29</td>\n",
              "      <td>14.79</td>\n",
              "    </tr>\n",
              "    <tr>\n",
              "      <th>1</th>\n",
              "      <td>399</td>\n",
              "      <td>36.71</td>\n",
              "      <td>8.58</td>\n",
              "    </tr>\n",
              "    <tr>\n",
              "      <th rowspan=\"2\" valign=\"top\">3</th>\n",
              "      <th>0</th>\n",
              "      <td>487</td>\n",
              "      <td>61.96</td>\n",
              "      <td>10.47</td>\n",
              "    </tr>\n",
              "    <tr>\n",
              "      <th>1</th>\n",
              "      <td>299</td>\n",
              "      <td>38.04</td>\n",
              "      <td>6.43</td>\n",
              "    </tr>\n",
              "    <tr>\n",
              "      <th rowspan=\"2\" valign=\"top\">4</th>\n",
              "      <th>0</th>\n",
              "      <td>634</td>\n",
              "      <td>68.10</td>\n",
              "      <td>13.63</td>\n",
              "    </tr>\n",
              "    <tr>\n",
              "      <th>1</th>\n",
              "      <td>297</td>\n",
              "      <td>31.90</td>\n",
              "      <td>6.38</td>\n",
              "    </tr>\n",
              "    <tr>\n",
              "      <th rowspan=\"2\" valign=\"top\">5</th>\n",
              "      <th>0</th>\n",
              "      <td>631</td>\n",
              "      <td>68.66</td>\n",
              "      <td>13.56</td>\n",
              "    </tr>\n",
              "    <tr>\n",
              "      <th>1</th>\n",
              "      <td>288</td>\n",
              "      <td>31.34</td>\n",
              "      <td>6.19</td>\n",
              "    </tr>\n",
              "    <tr>\n",
              "      <th rowspan=\"2\" valign=\"top\">6</th>\n",
              "      <th>0</th>\n",
              "      <td>6</td>\n",
              "      <td>75.00</td>\n",
              "      <td>0.13</td>\n",
              "    </tr>\n",
              "    <tr>\n",
              "      <th>1</th>\n",
              "      <td>2</td>\n",
              "      <td>25.00</td>\n",
              "      <td>0.04</td>\n",
              "    </tr>\n",
              "    <tr>\n",
              "      <th rowspan=\"2\" valign=\"top\">7</th>\n",
              "      <th>0</th>\n",
              "      <td>6</td>\n",
              "      <td>66.67</td>\n",
              "      <td>0.13</td>\n",
              "    </tr>\n",
              "    <tr>\n",
              "      <th>1</th>\n",
              "      <td>3</td>\n",
              "      <td>33.33</td>\n",
              "      <td>0.06</td>\n",
              "    </tr>\n",
              "  </tbody>\n",
              "</table>\n",
              "</div>"
            ],
            "text/plain": [
              "                                      count  Percent Of Sub Total  \\\n",
              "ExperienceInCurrentDomain LeaveOrNot                                \n",
              "0                         0             231                 65.07   \n",
              "                          1             124                 34.93   \n",
              "1                         0             370                 66.31   \n",
              "                          1             188                 33.69   \n",
              "2                         0             688                 63.29   \n",
              "                          1             399                 36.71   \n",
              "3                         0             487                 61.96   \n",
              "                          1             299                 38.04   \n",
              "4                         0             634                 68.10   \n",
              "                          1             297                 31.90   \n",
              "5                         0             631                 68.66   \n",
              "                          1             288                 31.34   \n",
              "6                         0               6                 75.00   \n",
              "                          1               2                 25.00   \n",
              "7                         0               6                 66.67   \n",
              "                          1               3                 33.33   \n",
              "\n",
              "                                      Percent Of Total  \n",
              "ExperienceInCurrentDomain LeaveOrNot                    \n",
              "0                         0                       4.96  \n",
              "                          1                       2.66  \n",
              "1                         0                       7.95  \n",
              "                          1                       4.04  \n",
              "2                         0                      14.79  \n",
              "                          1                       8.58  \n",
              "3                         0                      10.47  \n",
              "                          1                       6.43  \n",
              "4                         0                      13.63  \n",
              "                          1                       6.38  \n",
              "5                         0                      13.56  \n",
              "                          1                       6.19  \n",
              "6                         0                       0.13  \n",
              "                          1                       0.04  \n",
              "7                         0                       0.13  \n",
              "                          1                       0.06  "
            ]
          },
          "execution_count": 32,
          "metadata": {},
          "output_type": "execute_result"
        }
      ],
      "source": [
        "df_exp = diagnostic_tables(df_employee,'ExperienceInCurrentDomain')\n",
        "df_exp"
      ]
    },
    {
      "cell_type": "code",
      "execution_count": 33,
      "metadata": {},
      "outputs": [
        {
          "data": {
            "text/plain": [
              "<AxesSubplot:>"
            ]
          },
          "execution_count": 33,
          "metadata": {},
          "output_type": "execute_result"
        },
        {
          "data": {
            "image/png": "[encoded data removed]",
            "text/plain": [
              "<Figure size 1080x576 with 2 Axes>"
            ]
          },
          "metadata": {
            "needs_background": "light"
          },
          "output_type": "display_data"
        }
      ],
      "source": [
        "correlation = df_employee.corr()\n",
        "plt.figure(figsize = (15,8))\n",
        "sns.heatmap(correlation,annot=True)"
      ]
    },
    {
      "cell_type": "markdown",
      "metadata": {},
      "source": [
        "Key Observations\n",
        "\n",
        "- 49% of master degree holders left\n",
        "- 99% of people joined in 2018 left\n",
        "- 60% of people with PaymentTier as 2 left\n",
        "- 40% of people with age between 24, 25, 32 left\n",
        "- 47% of female employees left\n",
        "- 45% of people who were ever Benched left"
      ]
    },
    {
      "cell_type": "markdown",
      "metadata": {},
      "source": [
        "Lakukan pemisahan data untuk Data Train dan Data Test"
      ]
    },
    {
      "cell_type": "markdown",
      "metadata": {},
      "source": [
        "## Data Processing\n",
        "\n",
        "Dikarenakan data cukup ready untuk digunakan proses pemodelan Machine Learning tidak banyak dilakukan Processing Data"
      ]
    },
    {
      "cell_type": "markdown",
      "metadata": {},
      "source": [
        "## Sampling And Resampling"
      ]
    },
    {
      "cell_type": "code",
      "execution_count": 34,
      "metadata": {
        "id": "vI2rP1go0a_n"
      },
      "outputs": [],
      "source": [
        "X = df_employee.drop(columns='LeaveOrNot')\n",
        "y = df_employee['LeaveOrNot']"
      ]
    },
    {
      "cell_type": "code",
      "execution_count": 35,
      "metadata": {
        "id": "IuQfmReIOEjI"
      },
      "outputs": [],
      "source": [
        "X_train, X_test, y_train, y_test = train_test_split(X,y,train_size=0.8, stratify=y)"
      ]
    },
    {
      "cell_type": "code",
      "execution_count": 36,
      "metadata": {
        "colab": {
          "base_uri": "https://localhost:8080/",
          "height": 300
        },
        "id": "vV37xKUSD0tC",
        "outputId": "cfab4de3-9a80-416c-f43b-f4ee40256dd3"
      },
      "outputs": [
        {
          "data": {
            "text/plain": [
              "<AxesSubplot:>"
            ]
          },
          "execution_count": 36,
          "metadata": {},
          "output_type": "execute_result"
        },
        {
          "data": {
            "image/png": "[encoded data removed]",
            "text/plain": [
              "<Figure size 432x288 with 1 Axes>"
            ]
          },
          "metadata": {
            "needs_background": "light"
          },
          "output_type": "display_data"
        }
      ],
      "source": [
        "y.value_counts().plot(kind='bar')"
      ]
    },
    {
      "cell_type": "code",
      "execution_count": 37,
      "metadata": {
        "colab": {
          "base_uri": "https://localhost:8080/",
          "height": 300
        },
        "id": "u_8HjtCgOOhu",
        "outputId": "524f8109-7609-471e-f14b-5db28cebf056"
      },
      "outputs": [
        {
          "data": {
            "text/plain": [
              "<AxesSubplot:>"
            ]
          },
          "execution_count": 37,
          "metadata": {},
          "output_type": "execute_result"
        },
        {
          "data": {
            "image/png": "[encoded data removed]",
            "text/plain": [
              "<Figure size 432x288 with 1 Axes>"
            ]
          },
          "metadata": {
            "needs_background": "light"
          },
          "output_type": "display_data"
        }
      ],
      "source": [
        "y_train.value_counts().plot(kind='bar')"
      ]
    },
    {
      "cell_type": "code",
      "execution_count": 38,
      "metadata": {
        "colab": {
          "base_uri": "https://localhost:8080/",
          "height": 300
        },
        "id": "_cSmrUSREJsA",
        "outputId": "ad8ea390-6193-41c1-93cd-78eac4ccad04"
      },
      "outputs": [
        {
          "data": {
            "text/plain": [
              "<AxesSubplot:>"
            ]
          },
          "execution_count": 38,
          "metadata": {},
          "output_type": "execute_result"
        },
        {
          "data": {
            "image/png": "[encoded data removed]",
            "text/plain": [
              "<Figure size 432x288 with 1 Axes>"
            ]
          },
          "metadata": {
            "needs_background": "light"
          },
          "output_type": "display_data"
        }
      ],
      "source": [
        "y_test.value_counts().plot(kind='bar')"
      ]
    },
    {
      "cell_type": "markdown",
      "metadata": {
        "id": "8KuREWyBEraE"
      },
      "source": [
        "\n",
        "Lakukan Resimpling agar data train mempunyai jumlah output (data `LevaeOrNot`) Yes or No seimbang. Bisa menggunakan pendekatan dibawah ini:\n",
        "- Undersample\n",
        "- Oversample (SMOTE)"
      ]
    },
    {
      "cell_type": "code",
      "execution_count": 39,
      "metadata": {
        "colab": {
          "base_uri": "https://localhost:8080/"
        },
        "id": "4XgYT2ITOxGT",
        "outputId": "87841f5b-198e-40a8-e19d-f6e29b8d2744"
      },
      "outputs": [
        {
          "data": {
            "text/plain": [
              "1290    1\n",
              "1797    1\n",
              "4296    0\n",
              "829     0\n",
              "3531    0\n",
              "       ..\n",
              "4280    1\n",
              "3136    0\n",
              "2595    0\n",
              "3296    0\n",
              "826     0\n",
              "Name: LeaveOrNot, Length: 2560, dtype: int64"
            ]
          },
          "execution_count": 39,
          "metadata": {},
          "output_type": "execute_result"
        }
      ],
      "source": [
        "y_train_0 = y_train[y_train==0]\n",
        "y_train_1 = y_train[y_train==1]\n",
        "\n",
        "y_train_0_sample = y_train_0.sample(len(y_train_1))\n",
        "y_train_sample = pd.concat([y_train_0_sample,y_train_1]).sample(2*len(y_train_1))\n",
        "y_train_sample"
      ]
    },
    {
      "cell_type": "code",
      "execution_count": 40,
      "metadata": {
        "id": "iYturIr9P5iB"
      },
      "outputs": [],
      "source": [
        "X_train_sample = X_train.loc[y_train_sample.index]"
      ]
    },
    {
      "cell_type": "code",
      "execution_count": 41,
      "metadata": {
        "colab": {
          "base_uri": "https://localhost:8080/",
          "height": 300
        },
        "id": "RgIQxeZqQCse",
        "outputId": "77220a49-da46-4dae-f641-48ab690b75da"
      },
      "outputs": [
        {
          "data": {
            "text/plain": [
              "<AxesSubplot:>"
            ]
          },
          "execution_count": 41,
          "metadata": {},
          "output_type": "execute_result"
        },
        {
          "data": {
            "image/png": "[encoded data removed]",
            "text/plain": [
              "<Figure size 432x288 with 1 Axes>"
            ]
          },
          "metadata": {
            "needs_background": "light"
          },
          "output_type": "display_data"
        }
      ],
      "source": [
        "y_train_sample.value_counts().plot(kind='bar')"
      ]
    },
    {
      "cell_type": "code",
      "execution_count": 42,
      "metadata": {
        "id": "04EBVOAv0a_o"
      },
      "outputs": [],
      "source": [
        "X_train_samp = X_train_sample\n",
        "y_train_samp = y_train_sample.loc[X_train_samp.index]"
      ]
    },
    {
      "cell_type": "code",
      "execution_count": 43,
      "metadata": {
        "id": "SYqRAfW80a_o"
      },
      "outputs": [],
      "source": [
        "scaler = MinMaxScaler()\n",
        "scaler.fit(X_train_samp)\n",
        "X_train_scaled = scaler.transform(X_train_samp)\n",
        "X_test_scaled = scaler.transform(X_test)"
      ]
    },
    {
      "cell_type": "code",
      "execution_count": 44,
      "metadata": {},
      "outputs": [
        {
          "name": "stdout",
          "output_type": "stream",
          "text": [
            "Education skewness: 1.7073679677595377\n",
            "JoiningYear skewness: -0.1494040243406519\n",
            "City skewness: 0.41629594485247295\n",
            "PaymentTier skewness: -1.4402806967868902\n",
            "Age skewness: 0.9123804632063163\n",
            "Gender skewness: 0.2633414390925231\n",
            "EverBenched skewness: 2.4791261175378048\n",
            "ExperienceInCurrentDomain skewness: -0.1542339625795229\n"
          ]
        }
      ],
      "source": [
        "for col in X_train_samp:\n",
        "  print(f\"{col} skewness: {X_train_samp[col].skew()}\")"
      ]
    },
    {
      "cell_type": "markdown",
      "metadata": {},
      "source": [
        "Dengan menggunakan Random Forest Classifier. Kita mau melihat seberapa penting ('featrue importances') dari masing-masing feature yang ada."
      ]
    },
    {
      "cell_type": "code",
      "execution_count": 45,
      "metadata": {
        "id": "iVQFsJ5X0a_o",
        "outputId": "042c5a75-1d39-41dd-d602-09cb6da245f4"
      },
      "outputs": [
        {
          "data": {
            "text/html": [
              "<style>#sk-container-id-1 {color: black;background-color: white;}#sk-container-id-1 pre{padding: 0;}#sk-container-id-1 div.sk-toggleable {background-color: white;}#sk-container-id-1 label.sk-toggleable__label {cursor: pointer;display: block;width: 100%;margin-bottom: 0;padding: 0.3em;box-sizing: border-box;text-align: center;}#sk-container-id-1 label.sk-toggleable__label-arrow:before {content: \"▸\";float: left;margin-right: 0.25em;color: #696969;}#sk-container-id-1 label.sk-toggleable__label-arrow:hover:before {color: black;}#sk-container-id-1 div.sk-estimator:hover label.sk-toggleable__label-arrow:before {color: black;}#sk-container-id-1 div.sk-toggleable__content {max-height: 0;max-width: 0;overflow: hidden;text-align: left;background-color: #f0f8ff;}#sk-container-id-1 div.sk-toggleable__content pre {margin: 0.2em;color: black;border-radius: 0.25em;background-color: #f0f8ff;}#sk-container-id-1 input.sk-toggleable__control:checked~div.sk-toggleable__content {max-height: 200px;max-width: 100%;overflow: auto;}#sk-container-id-1 input.sk-toggleable__control:checked~label.sk-toggleable__label-arrow:before {content: \"▾\";}#sk-container-id-1 div.sk-estimator input.sk-toggleable__control:checked~label.sk-toggleable__label {background-color: #d4ebff;}#sk-container-id-1 div.sk-label input.sk-toggleable__control:checked~label.sk-toggleable__label {background-color: #d4ebff;}#sk-container-id-1 input.sk-hidden--visually {border: 0;clip: rect(1px 1px 1px 1px);clip: rect(1px, 1px, 1px, 1px);height: 1px;margin: -1px;overflow: hidden;padding: 0;position: absolute;width: 1px;}#sk-container-id-1 div.sk-estimator {font-family: monospace;background-color: #f0f8ff;border: 1px dotted black;border-radius: 0.25em;box-sizing: border-box;margin-bottom: 0.5em;}#sk-container-id-1 div.sk-estimator:hover {background-color: #d4ebff;}#sk-container-id-1 div.sk-parallel-item::after {content: \"\";width: 100%;border-bottom: 1px solid gray;flex-grow: 1;}#sk-container-id-1 div.sk-label:hover label.sk-toggleable__label {background-color: #d4ebff;}#sk-container-id-1 div.sk-serial::before {content: \"\";position: absolute;border-left: 1px solid gray;box-sizing: border-box;top: 0;bottom: 0;left: 50%;z-index: 0;}#sk-container-id-1 div.sk-serial {display: flex;flex-direction: column;align-items: center;background-color: white;padding-right: 0.2em;padding-left: 0.2em;position: relative;}#sk-container-id-1 div.sk-item {position: relative;z-index: 1;}#sk-container-id-1 div.sk-parallel {display: flex;align-items: stretch;justify-content: center;background-color: white;position: relative;}#sk-container-id-1 div.sk-item::before, #sk-container-id-1 div.sk-parallel-item::before {content: \"\";position: absolute;border-left: 1px solid gray;box-sizing: border-box;top: 0;bottom: 0;left: 50%;z-index: -1;}#sk-container-id-1 div.sk-parallel-item {display: flex;flex-direction: column;z-index: 1;position: relative;background-color: white;}#sk-container-id-1 div.sk-parallel-item:first-child::after {align-self: flex-end;width: 50%;}#sk-container-id-1 div.sk-parallel-item:last-child::after {align-self: flex-start;width: 50%;}#sk-container-id-1 div.sk-parallel-item:only-child::after {width: 0;}#sk-container-id-1 div.sk-dashed-wrapped {border: 1px dashed gray;margin: 0 0.4em 0.5em 0.4em;box-sizing: border-box;padding-bottom: 0.4em;background-color: white;}#sk-container-id-1 div.sk-label label {font-family: monospace;font-weight: bold;display: inline-block;line-height: 1.2em;}#sk-container-id-1 div.sk-label-container {text-align: center;}#sk-container-id-1 div.sk-container {/* jupyter's `normalize.less` sets `[hidden] { display: none; }` but bootstrap.min.css set `[hidden] { display: none !important; }` so we also need the `!important` here to be able to override the default hidden behavior on the sphinx rendered scikit-learn.org. See: https://github.com/scikit-learn/scikit-learn/issues/21755 */display: inline-block !important;position: relative;}#sk-container-id-1 div.sk-text-repr-fallback {display: none;}</style><div id=\"sk-container-id-1\" class=\"sk-top-container\"><div class=\"sk-text-repr-fallback\"><pre>RandomForestClassifier(max_depth=5)</pre><b>In a Jupyter environment, please rerun this cell to show the HTML representation or trust the notebook. <br />On GitHub, the HTML representation is unable to render, please try loading this page with nbviewer.org.</b></div><div class=\"sk-container\" hidden><div class=\"sk-item\"><div class=\"sk-estimator sk-toggleable\"><input class=\"sk-toggleable__control sk-hidden--visually\" id=\"sk-estimator-id-1\" type=\"checkbox\" checked><label for=\"sk-estimator-id-1\" class=\"sk-toggleable__label sk-toggleable__label-arrow\">RandomForestClassifier</label><div class=\"sk-toggleable__content\"><pre>RandomForestClassifier(max_depth=5)</pre></div></div></div></div></div>"
            ],
            "text/plain": [
              "RandomForestClassifier(max_depth=5)"
            ]
          },
          "execution_count": 45,
          "metadata": {},
          "output_type": "execute_result"
        }
      ],
      "source": [
        "from sklearn.ensemble import RandomForestClassifier\n",
        "\n",
        "RF = RandomForestClassifier(n_estimators=100,criterion='gini', max_depth=5, min_samples_split=2, min_samples_leaf=1)\n",
        "\n",
        "RF.fit(X_train_samp,y_train_samp)"
      ]
    },
    {
      "cell_type": "code",
      "execution_count": 46,
      "metadata": {
        "id": "PuH-UzC40a_o",
        "outputId": "4a91e828-acad-47fc-f280-7a702ee99331"
      },
      "outputs": [
        {
          "data": {
            "text/plain": [
              "<AxesSubplot:xlabel='X'>"
            ]
          },
          "execution_count": 46,
          "metadata": {},
          "output_type": "execute_result"
        },
        {
          "data": {
            "image/png": "[encoded data removed]",
            "text/plain": [
              "<Figure size 432x288 with 1 Axes>"
            ]
          },
          "metadata": {
            "needs_background": "light"
          },
          "output_type": "display_data"
        }
      ],
      "source": [
        "feature_imp = pd.DataFrame({'X':X.columns,'importance':RF.feature_importances_})\n",
        "feature_imp.set_index('X').sort_values('importance').plot(kind='bar')"
      ]
    },
    {
      "cell_type": "code",
      "execution_count": 47,
      "metadata": {
        "id": "lp1xAEmG0a_p",
        "outputId": "40583f88-fd7e-43bb-f6e9-417d39af96b7"
      },
      "outputs": [
        {
          "data": {
            "text/html": [
              "<div>\n",
              "<style scoped>\n",
              "    .dataframe tbody tr th:only-of-type {\n",
              "        vertical-align: middle;\n",
              "    }\n",
              "\n",
              "    .dataframe tbody tr th {\n",
              "        vertical-align: top;\n",
              "    }\n",
              "\n",
              "    .dataframe thead th {\n",
              "        text-align: right;\n",
              "    }\n",
              "</style>\n",
              "<table border=\"1\" class=\"dataframe\">\n",
              "  <thead>\n",
              "    <tr style=\"text-align: right;\">\n",
              "      <th></th>\n",
              "      <th>X</th>\n",
              "      <th>importance</th>\n",
              "    </tr>\n",
              "  </thead>\n",
              "  <tbody>\n",
              "    <tr>\n",
              "      <th>0</th>\n",
              "      <td>Education</td>\n",
              "      <td>0.107232</td>\n",
              "    </tr>\n",
              "    <tr>\n",
              "      <th>1</th>\n",
              "      <td>JoiningYear</td>\n",
              "      <td>0.369300</td>\n",
              "    </tr>\n",
              "    <tr>\n",
              "      <th>2</th>\n",
              "      <td>City</td>\n",
              "      <td>0.125909</td>\n",
              "    </tr>\n",
              "    <tr>\n",
              "      <th>3</th>\n",
              "      <td>PaymentTier</td>\n",
              "      <td>0.155891</td>\n",
              "    </tr>\n",
              "    <tr>\n",
              "      <th>4</th>\n",
              "      <td>Age</td>\n",
              "      <td>0.046975</td>\n",
              "    </tr>\n",
              "    <tr>\n",
              "      <th>5</th>\n",
              "      <td>Gender</td>\n",
              "      <td>0.157083</td>\n",
              "    </tr>\n",
              "    <tr>\n",
              "      <th>6</th>\n",
              "      <td>EverBenched</td>\n",
              "      <td>0.015936</td>\n",
              "    </tr>\n",
              "    <tr>\n",
              "      <th>7</th>\n",
              "      <td>ExperienceInCurrentDomain</td>\n",
              "      <td>0.021674</td>\n",
              "    </tr>\n",
              "  </tbody>\n",
              "</table>\n",
              "</div>"
            ],
            "text/plain": [
              "                           X  importance\n",
              "0                  Education    0.107232\n",
              "1                JoiningYear    0.369300\n",
              "2                       City    0.125909\n",
              "3                PaymentTier    0.155891\n",
              "4                        Age    0.046975\n",
              "5                     Gender    0.157083\n",
              "6                EverBenched    0.015936\n",
              "7  ExperienceInCurrentDomain    0.021674"
            ]
          },
          "execution_count": 47,
          "metadata": {},
          "output_type": "execute_result"
        }
      ],
      "source": [
        "feature_imp"
      ]
    },
    {
      "cell_type": "code",
      "execution_count": 48,
      "metadata": {
        "id": "NXgloNqG0a_p",
        "outputId": "69353719-447e-44cb-9024-7b5c6981dd3b"
      },
      "outputs": [
        {
          "name": "stdout",
          "output_type": "stream",
          "text": [
            "Education\n"
          ]
        },
        {
          "data": {
            "image/png": "[encoded data removed]",
            "text/plain": [
              "<Figure size 1152x288 with 2 Axes>"
            ]
          },
          "metadata": {
            "needs_background": "light"
          },
          "output_type": "display_data"
        },
        {
          "name": "stdout",
          "output_type": "stream",
          "text": [
            "JoiningYear\n"
          ]
        },
        {
          "data": {
            "image/png": "[encoded data removed]",
            "text/plain": [
              "<Figure size 1152x288 with 2 Axes>"
            ]
          },
          "metadata": {
            "needs_background": "light"
          },
          "output_type": "display_data"
        },
        {
          "name": "stdout",
          "output_type": "stream",
          "text": [
            "City\n"
          ]
        },
        {
          "data": {
            "image/png": "[encoded data removed]",
            "text/plain": [
              "<Figure size 1152x288 with 2 Axes>"
            ]
          },
          "metadata": {
            "needs_background": "light"
          },
          "output_type": "display_data"
        },
        {
          "name": "stdout",
          "output_type": "stream",
          "text": [
            "PaymentTier\n"
          ]
        },
        {
          "data": {
            "image/png": "[encoded data removed]",
            "text/plain": [
              "<Figure size 1152x288 with 2 Axes>"
            ]
          },
          "metadata": {
            "needs_background": "light"
          },
          "output_type": "display_data"
        },
        {
          "name": "stdout",
          "output_type": "stream",
          "text": [
            "Age\n"
          ]
        },
        {
          "data": {
            "image/png": "[encoded data removed]",
            "text/plain": [
              "<Figure size 1152x288 with 2 Axes>"
            ]
          },
          "metadata": {
            "needs_background": "light"
          },
          "output_type": "display_data"
        },
        {
          "name": "stdout",
          "output_type": "stream",
          "text": [
            "Gender\n"
          ]
        },
        {
          "data": {
            "image/png": "[encoded data removed]",
            "text/plain": [
              "<Figure size 1152x288 with 2 Axes>"
            ]
          },
          "metadata": {
            "needs_background": "light"
          },
          "output_type": "display_data"
        },
        {
          "name": "stdout",
          "output_type": "stream",
          "text": [
            "EverBenched\n"
          ]
        },
        {
          "data": {
            "image/png": "[encoded data removed]",
            "text/plain": [
              "<Figure size 1152x288 with 2 Axes>"
            ]
          },
          "metadata": {
            "needs_background": "light"
          },
          "output_type": "display_data"
        },
        {
          "name": "stdout",
          "output_type": "stream",
          "text": [
            "ExperienceInCurrentDomain\n"
          ]
        },
        {
          "data": {
            "image/png": "[encoded data removed]",
            "text/plain": [
              "<Figure size 1152x288 with 2 Axes>"
            ]
          },
          "metadata": {
            "needs_background": "light"
          },
          "output_type": "display_data"
        }
      ],
      "source": [
        "def diagnostic_plots(df, variable):\n",
        "    # Define figure size\n",
        "    plt.figure(figsize=(16, 4))\n",
        "\n",
        "    # Histogram\n",
        "    plt.subplot(1, 2, 1)\n",
        "    sns.histplot(df[variable], bins=30)\n",
        "    plt.title('Histogram')\n",
        "\n",
        "    # Boxplot\n",
        "    plt.subplot(1, 2, 2)\n",
        "    sns.boxplot(y=df[variable])\n",
        "    plt.title('Boxplot')\n",
        "\n",
        "    plt.show()\n",
        "\n",
        "for col in X_train_sample.columns:\n",
        "  print (col)\n",
        "  diagnostic_plots(X_train_sample, col)"
      ]
    },
    {
      "cell_type": "markdown",
      "metadata": {},
      "source": [
        "Melihat dari hasil diagnosa analisis histogram, boxplot dan feature importance. Kami merasa tidak ada feature yang perlu dihapus. Semua feature yang ada dirasa masih related"
      ]
    },
    {
      "cell_type": "markdown",
      "metadata": {
        "id": "5d4QUQ7xClYt"
      },
      "source": [
        "## Modeling"
      ]
    },
    {
      "cell_type": "markdown",
      "metadata": {
        "id": "ed9_S-yMCp2n"
      },
      "source": [
        "### Logistic Regression"
      ]
    },
    {
      "cell_type": "code",
      "execution_count": 49,
      "metadata": {
        "id": "kwTh0vjACUsz"
      },
      "outputs": [],
      "source": [
        "from sklearn.linear_model import LogisticRegression\n",
        "\n",
        "logreg = LogisticRegression(penalty=\"l2\", C = 1, solver=\"lbfgs\", max_iter = 1000)\n",
        "\n",
        "logreg.fit(X_train_scaled,y_train_samp)\n",
        "\n",
        "y_pred_train_lr = logreg.predict(X_train_scaled)\n",
        "y_pred_test_lr = logreg.predict(X_test_scaled)\n",
        "\n",
        "y_proba_train_lr = logreg.predict_proba(X_train_scaled)\n",
        "y_proba_test_lr = logreg.predict_proba(X_test_scaled)"
      ]
    },
    {
      "cell_type": "markdown",
      "metadata": {
        "id": "YRGKKwSYDuB5"
      },
      "source": [
        "### KNN"
      ]
    },
    {
      "cell_type": "code",
      "execution_count": 50,
      "metadata": {
        "id": "VZ2BX0QBDuLQ"
      },
      "outputs": [],
      "source": [
        "from sklearn.neighbors import KNeighborsClassifier\n",
        "\n",
        "knn = KNeighborsClassifier(n_neighbors=14, metric='euclidean')\n",
        "\n",
        "knn.fit(X_train_scaled,y_train_samp)\n",
        "\n",
        "y_pred_train_knn = knn.predict(X_train_scaled)\n",
        "y_pred_test_knn = knn.predict(X_test_scaled)\n",
        "\n",
        "y_proba_train_knn = knn.predict_proba(X_train_scaled)\n",
        "y_proba_test_knn = knn.predict_proba(X_test_scaled)"
      ]
    },
    {
      "cell_type": "markdown",
      "metadata": {
        "id": "so4e3S3yCu01"
      },
      "source": [
        "### SVM"
      ]
    },
    {
      "cell_type": "code",
      "execution_count": 51,
      "metadata": {
        "id": "rnbWtc45CwWw"
      },
      "outputs": [],
      "source": [
        "from sklearn.svm import SVC\n",
        "\n",
        "svm = SVC(kernel='rbf', C=1, probability=True)\n",
        "\n",
        "svm.fit(X_train_scaled,y_train_samp)\n",
        "\n",
        "y_pred_train_svm = svm.predict(X_train_scaled)\n",
        "y_pred_test_svm = svm.predict(X_test_scaled)\n",
        "\n",
        "y_proba_train_svm = svm.predict_proba(X_train_scaled)\n",
        "y_proba_test_svm = svm.predict_proba(X_test_scaled)"
      ]
    },
    {
      "cell_type": "markdown",
      "metadata": {
        "id": "6AbvshUNCwgm"
      },
      "source": [
        "### Decision Tree"
      ]
    },
    {
      "cell_type": "code",
      "execution_count": 52,
      "metadata": {
        "id": "XVfmXqAsC2Yc"
      },
      "outputs": [],
      "source": [
        "from sklearn.tree import DecisionTreeClassifier\n",
        "\n",
        "DT = DecisionTreeClassifier(criterion='gini',max_depth=5, min_samples_split=2, min_samples_leaf=1)\n",
        "\n",
        "DT.fit(X_train_samp,y_train_samp)\n",
        "\n",
        "y_pred_train_dt = DT.predict(X_train_samp)\n",
        "y_pred_test_dt = DT.predict(X_test)\n",
        "\n",
        "y_proba_train_dt = DT.predict_proba(X_train_samp)\n",
        "y_proba_test_dt = DT.predict_proba(X_test)"
      ]
    },
    {
      "cell_type": "markdown",
      "metadata": {
        "id": "GUytBzEuC2zy"
      },
      "source": [
        "### Ensemble Learning (Random Forest)"
      ]
    },
    {
      "cell_type": "code",
      "execution_count": 53,
      "metadata": {
        "id": "9TCJE9XGD_Ob"
      },
      "outputs": [],
      "source": [
        "from sklearn.ensemble import RandomForestClassifier\n",
        "\n",
        "RF = RandomForestClassifier(n_estimators=100,criterion='gini', max_depth=5, min_samples_split=2, min_samples_leaf=1)\n",
        "\n",
        "RF.fit(X_train_samp,y_train_samp)\n",
        "\n",
        "y_pred_train_rf = RF.predict(X_train_samp)\n",
        "y_pred_test_rf = RF.predict(X_test)\n",
        "\n",
        "y_proba_train_rf = RF.predict_proba(X_train_samp)\n",
        "y_proba_test_rf = RF.predict_proba(X_test)"
      ]
    },
    {
      "cell_type": "markdown",
      "metadata": {
        "id": "xCDmqFKL0a_r"
      },
      "source": [
        "### Native Bayes"
      ]
    },
    {
      "cell_type": "code",
      "execution_count": 54,
      "metadata": {
        "id": "ITeP4MQl0a_r"
      },
      "outputs": [],
      "source": [
        "#Import Gaussian Naive Bayes model\n",
        "from sklearn.naive_bayes import GaussianNB\n",
        "\n",
        "#Create a Gaussian Classifier\n",
        "gnb = GaussianNB()\n",
        "\n",
        "#Train the model using the training sets\n",
        "gnb.fit(X_train_samp, y_train_samp)\n",
        "\n",
        "#Predict the response for test dataset\n",
        "y_pred_train_nb = gnb.predict(X_train_samp)\n",
        "y_pred_test_nb = gnb.predict(X_test)\n",
        "\n",
        "y_proba_train_nb = gnb.predict_proba(X_train_samp)\n",
        "y_proba_test_nb = gnb.predict_proba(X_test)"
      ]
    },
    {
      "cell_type": "markdown",
      "metadata": {
        "id": "V_p_ALCQEHhK"
      },
      "source": [
        "## Model Evaluation\n",
        "\n",
        "- Akurasi\n",
        "- Precision\n",
        "- Recall\n",
        "- F1 Score\n",
        "- ROC AUC Score"
      ]
    },
    {
      "cell_type": "code",
      "execution_count": 55,
      "metadata": {
        "id": "_15r4nzzf1SZ"
      },
      "outputs": [],
      "source": [
        "from sklearn.metrics import classification_report, roc_auc_score"
      ]
    },
    {
      "cell_type": "markdown",
      "metadata": {
        "id": "C1_7YXnj5bmC"
      },
      "source": [
        "### Logistic Regression"
      ]
    },
    {
      "cell_type": "code",
      "execution_count": 56,
      "metadata": {
        "colab": {
          "base_uri": "https://localhost:8080/"
        },
        "id": "aFppWpzc5Yqh",
        "outputId": "2907de0a-073d-4854-fd4d-08f4c01867c5"
      },
      "outputs": [
        {
          "name": "stdout",
          "output_type": "stream",
          "text": [
            "Training\n",
            "              precision    recall  f1-score   support\n",
            "\n",
            "           0       0.64      0.65      0.65      1280\n",
            "           1       0.65      0.63      0.64      1280\n",
            "\n",
            "    accuracy                           0.64      2560\n",
            "   macro avg       0.64      0.64      0.64      2560\n",
            "weighted avg       0.64      0.64      0.64      2560\n",
            "\n",
            "ROC AUC Score: 0.7020922851562501\n",
            "\n",
            "===========================\n",
            "\n",
            "Test\n",
            "              precision    recall  f1-score   support\n",
            "\n",
            "           0       0.78      0.68      0.73       611\n",
            "           1       0.51      0.62      0.56       320\n",
            "\n",
            "    accuracy                           0.66       931\n",
            "   macro avg       0.64      0.65      0.64       931\n",
            "weighted avg       0.68      0.66      0.67       931\n",
            "\n",
            "ROC AUC Score: 0.7054137684124386\n"
          ]
        }
      ],
      "source": [
        "print(\"Training\")\n",
        "print(classification_report(y_train_samp,y_pred_train_lr))\n",
        "print('ROC AUC Score:',roc_auc_score(y_train_samp,y_proba_train_lr[:,1]))\n",
        "print(\"\\n===========================\\n\")\n",
        "print(\"Test\")\n",
        "print(classification_report(y_test,y_pred_test_lr))\n",
        "print('ROC AUC Score:',roc_auc_score(y_test,y_proba_test_lr[:,1]))"
      ]
    },
    {
      "cell_type": "markdown",
      "metadata": {
        "id": "l1FpuYP07UfA"
      },
      "source": [
        "### KNN"
      ]
    },
    {
      "cell_type": "code",
      "execution_count": 57,
      "metadata": {
        "colab": {
          "base_uri": "https://localhost:8080/"
        },
        "id": "e1GkjF_F66uG",
        "outputId": "c0ae1a66-d653-4765-d5ee-1d0dc7e913cd"
      },
      "outputs": [
        {
          "name": "stdout",
          "output_type": "stream",
          "text": [
            "Training\n",
            "              precision    recall  f1-score   support\n",
            "\n",
            "           0       0.76      0.90      0.82      1280\n",
            "           1       0.87      0.72      0.79      1280\n",
            "\n",
            "    accuracy                           0.81      2560\n",
            "   macro avg       0.82      0.81      0.81      2560\n",
            "weighted avg       0.82      0.81      0.81      2560\n",
            "\n",
            "ROC AUC Score: 0.8849728393554688\n",
            "\n",
            "===========================\n",
            "\n",
            "Test\n",
            "              precision    recall  f1-score   support\n",
            "\n",
            "           0       0.84      0.84      0.84       611\n",
            "           1       0.69      0.68      0.69       320\n",
            "\n",
            "    accuracy                           0.79       931\n",
            "   macro avg       0.76      0.76      0.76       931\n",
            "weighted avg       0.79      0.79      0.79       931\n",
            "\n",
            "ROC AUC Score: 0.8238006342062194\n"
          ]
        }
      ],
      "source": [
        "print(\"Training\")\n",
        "print(classification_report(y_train_samp,y_pred_train_knn))\n",
        "print('ROC AUC Score:',roc_auc_score(y_train_samp,y_proba_train_knn[:,1]))\n",
        "print(\"\\n===========================\\n\")\n",
        "print(\"Test\")\n",
        "print(classification_report(y_test,y_pred_test_knn))\n",
        "print('ROC AUC Score:',roc_auc_score(y_test,y_proba_test_knn[:,1]))"
      ]
    },
    {
      "cell_type": "markdown",
      "metadata": {
        "id": "j2QtIlf07psl"
      },
      "source": [
        "### SVM"
      ]
    },
    {
      "cell_type": "code",
      "execution_count": 58,
      "metadata": {
        "colab": {
          "base_uri": "https://localhost:8080/"
        },
        "id": "KLW-43cR7bvS",
        "outputId": "dfb25b8f-5870-45f6-d43d-0a93883fb061"
      },
      "outputs": [
        {
          "name": "stdout",
          "output_type": "stream",
          "text": [
            "Training\n",
            "              precision    recall  f1-score   support\n",
            "\n",
            "           0       0.76      0.89      0.82      1280\n",
            "           1       0.87      0.72      0.79      1280\n",
            "\n",
            "    accuracy                           0.80      2560\n",
            "   macro avg       0.81      0.80      0.80      2560\n",
            "weighted avg       0.81      0.80      0.80      2560\n",
            "\n",
            "ROC AUC Score: 0.8517916870117187\n",
            "\n",
            "===========================\n",
            "\n",
            "Test\n",
            "              precision    recall  f1-score   support\n",
            "\n",
            "           0       0.83      0.85      0.84       611\n",
            "           1       0.70      0.66      0.68       320\n",
            "\n",
            "    accuracy                           0.78       931\n",
            "   macro avg       0.76      0.76      0.76       931\n",
            "weighted avg       0.78      0.78      0.78       931\n",
            "\n",
            "ROC AUC Score: 0.8111369680851065\n"
          ]
        }
      ],
      "source": [
        "print(\"Training\")\n",
        "print(classification_report(y_train_samp,y_pred_train_svm))\n",
        "print('ROC AUC Score:',roc_auc_score(y_train_samp,y_proba_train_svm[:,1]))\n",
        "print(\"\\n===========================\\n\")\n",
        "print(\"Test\")\n",
        "print(classification_report(y_test,y_pred_test_svm))\n",
        "print('ROC AUC Score:',roc_auc_score(y_test,y_proba_test_svm[:,1]))"
      ]
    },
    {
      "cell_type": "markdown",
      "metadata": {
        "id": "w8ybvdZ175AA"
      },
      "source": [
        "### Decision Tree"
      ]
    },
    {
      "cell_type": "code",
      "execution_count": 59,
      "metadata": {
        "colab": {
          "base_uri": "https://localhost:8080/"
        },
        "id": "OaTYi9QF72Tn",
        "outputId": "37a75754-f18e-45bf-adbf-243155540394"
      },
      "outputs": [
        {
          "name": "stdout",
          "output_type": "stream",
          "text": [
            "Training\n",
            "              precision    recall  f1-score   support\n",
            "\n",
            "           0       0.76      0.82      0.79      1280\n",
            "           1       0.81      0.74      0.77      1280\n",
            "\n",
            "    accuracy                           0.78      2560\n",
            "   macro avg       0.79      0.78      0.78      2560\n",
            "weighted avg       0.79      0.78      0.78      2560\n",
            "\n",
            "ROC AUC Score: 0.8545883178710938\n",
            "\n",
            "===========================\n",
            "\n",
            "Test\n",
            "              precision    recall  f1-score   support\n",
            "\n",
            "           0       0.85      0.79      0.82       611\n",
            "           1       0.65      0.74      0.69       320\n",
            "\n",
            "    accuracy                           0.77       931\n",
            "   macro avg       0.75      0.76      0.76       931\n",
            "weighted avg       0.78      0.77      0.78       931\n",
            "\n",
            "ROC AUC Score: 0.8377582855973814\n"
          ]
        }
      ],
      "source": [
        "print(\"Training\")\n",
        "print(classification_report(y_train_samp,y_pred_train_dt))\n",
        "print('ROC AUC Score:',roc_auc_score(y_train_samp,y_proba_train_dt[:,1]))\n",
        "print(\"\\n===========================\\n\")\n",
        "print(\"Test\")\n",
        "print(classification_report(y_test,y_pred_test_dt))\n",
        "print('ROC AUC Score:',roc_auc_score(y_test,y_proba_test_dt[:,1]))"
      ]
    },
    {
      "cell_type": "markdown",
      "metadata": {
        "id": "irtQtR718OKr"
      },
      "source": [
        "### Random Forest"
      ]
    },
    {
      "cell_type": "code",
      "execution_count": 60,
      "metadata": {
        "colab": {
          "base_uri": "https://localhost:8080/"
        },
        "id": "mE2Mb4ba8NZ-",
        "outputId": "b057d7c5-0865-4ce9-9e34-cde1b41088bb"
      },
      "outputs": [
        {
          "name": "stdout",
          "output_type": "stream",
          "text": [
            "Training\n",
            "              precision    recall  f1-score   support\n",
            "\n",
            "           0       0.77      0.90      0.83      1280\n",
            "           1       0.88      0.73      0.80      1280\n",
            "\n",
            "    accuracy                           0.81      2560\n",
            "   macro avg       0.82      0.81      0.81      2560\n",
            "weighted avg       0.82      0.81      0.81      2560\n",
            "\n",
            "ROC AUC Score: 0.8656369018554687\n",
            "\n",
            "===========================\n",
            "\n",
            "Test\n",
            "              precision    recall  f1-score   support\n",
            "\n",
            "           0       0.85      0.88      0.86       611\n",
            "           1       0.76      0.70      0.73       320\n",
            "\n",
            "    accuracy                           0.82       931\n",
            "   macro avg       0.80      0.79      0.79       931\n",
            "weighted avg       0.82      0.82      0.82       931\n",
            "\n",
            "ROC AUC Score: 0.8473532119476268\n"
          ]
        }
      ],
      "source": [
        "print(\"Training\")\n",
        "print(classification_report(y_train_samp,y_pred_train_rf))\n",
        "print('ROC AUC Score:',roc_auc_score(y_train_samp,y_proba_train_rf[:,1]))\n",
        "print(\"\\n===========================\\n\")\n",
        "print(\"Test\")\n",
        "print(classification_report(y_test,y_pred_test_rf))\n",
        "print('ROC AUC Score:',roc_auc_score(y_test,y_proba_test_rf[:,1]))"
      ]
    },
    {
      "cell_type": "markdown",
      "metadata": {
        "id": "i8h9NS8w0a_t"
      },
      "source": [
        "### Native Bayes"
      ]
    },
    {
      "cell_type": "code",
      "execution_count": 61,
      "metadata": {
        "id": "rJuwOFza0a_t",
        "outputId": "5a0c83c6-7f79-4be1-df21-c78add7af6df"
      },
      "outputs": [
        {
          "name": "stdout",
          "output_type": "stream",
          "text": [
            "Training\n",
            "              precision    recall  f1-score   support\n",
            "\n",
            "           0       0.63      0.69      0.66      1280\n",
            "           1       0.66      0.60      0.63      1280\n",
            "\n",
            "    accuracy                           0.64      2560\n",
            "   macro avg       0.64      0.64      0.64      2560\n",
            "weighted avg       0.64      0.64      0.64      2560\n",
            "\n",
            "ROC AUC Score: 0.6922357177734375\n",
            "\n",
            "===========================\n",
            "\n",
            "Test\n",
            "              precision    recall  f1-score   support\n",
            "\n",
            "           0       0.77      0.70      0.73       611\n",
            "           1       0.51      0.59      0.55       320\n",
            "\n",
            "    accuracy                           0.66       931\n",
            "   macro avg       0.64      0.64      0.64       931\n",
            "weighted avg       0.68      0.66      0.67       931\n",
            "\n",
            "ROC AUC Score: 0.6886073036006547\n"
          ]
        }
      ],
      "source": [
        "print(\"Training\")\n",
        "print(classification_report(y_train_samp,y_pred_train_nb))\n",
        "print('ROC AUC Score:',roc_auc_score(y_train_samp,y_proba_train_nb[:,1]))\n",
        "print(\"\\n===========================\\n\")\n",
        "print(\"Test\")\n",
        "print(classification_report(y_test,y_pred_test_nb))\n",
        "print('ROC AUC Score:',roc_auc_score(y_test,y_proba_test_nb[:,1]))"
      ]
    },
    {
      "cell_type": "markdown",
      "metadata": {
        "id": "X1cRLE490a_t"
      },
      "source": [
        "## Kesimpulan\n",
        "\n",
        "Dari Mode Clasification yg ditest:\n",
        "- Nilai Akurasi dari Model yang didapat <= 85%\n",
        "- Model yang terbaik jika dilihat dari ROC AUC Score adalah Random Forest"
      ]
    }
  ],
  "metadata": {
    "colab": {
      "include_colab_link": true,
      "name": "Assignment3.ipynb",
      "provenance": []
    },
    "kernelspec": {
      "display_name": "Python 3.9.7 ('base')",
      "language": "python",
      "name": "python3"
    },
    "language_info": {
      "codemirror_mode": {
        "name": "ipython",
        "version": 3
      },
      "file_extension": ".py",
      "mimetype": "text/x-python",
      "name": "python",
      "nbconvert_exporter": "python",
      "pygments_lexer": "ipython3",
      "version": "3.9.7"
    },
    "vscode": {
      "interpreter": {
        "hash": "5633d90d4512c475bf0b7442eb62c89fd36a96911d9160e54efe07a10f1f8fe2"
      }
    }
  },
  "nbformat": 4,
  "nbformat_minor": 0
}
